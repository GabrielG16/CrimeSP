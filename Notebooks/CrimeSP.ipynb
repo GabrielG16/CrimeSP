{
 "cells": [
  {
   "cell_type": "markdown",
   "id": "b5ce7789-81a8-4f85-bab6-c70c5c0b1ba0",
   "metadata": {},
   "source": [
    "# Imports"
   ]
  },
  {
   "cell_type": "code",
   "execution_count": 90,
   "id": "49070c8d-eee2-4a8e-a4dd-6dda33939892",
   "metadata": {},
   "outputs": [],
   "source": [
    "import numpy as np\n",
    "import pandas as pd\n",
    "import geopandas\n",
    "import folium\n",
    "from branca.element import Figure\n",
    "import seaborn as sns\n",
    "import matplotlib.pyplot as plt\n",
    "import matplotlib as mpl\n",
    "import plotly_express as px\n",
    "import osv"
   ]
  },
  {
   "cell_type": "markdown",
   "id": "1a9e8ab1-df3c-49ca-a118-9b6e9f615a97",
   "metadata": {},
   "source": [
    "## Graphing Styles"
   ]
  },
  {
   "cell_type": "code",
   "execution_count": 176,
   "id": "caf4ba04-1d4d-4ed5-afa4-71581c0f36c5",
   "metadata": {},
   "outputs": [
    {
     "data": {
      "text/plain": [
       "<Figure size 864x432 with 0 Axes>"
      ]
     },
     "metadata": {},
     "output_type": "display_data"
    }
   ],
   "source": [
    "mpl.rcParams['figure.figsize']=(12,6)\n",
    "plt.tight_layout()"
   ]
  },
  {
   "cell_type": "code",
   "execution_count": null,
   "id": "28b122a9-d4d0-4e5c-90cd-1772788f00ff",
   "metadata": {},
   "outputs": [],
   "source": [
    "plt.style.available"
   ]
  },
  {
   "cell_type": "code",
   "execution_count": 6,
   "id": "27202f46-56cf-42f0-b357-3ed5d663347b",
   "metadata": {},
   "outputs": [],
   "source": [
    "plt.style.use('ggplot')"
   ]
  },
  {
   "cell_type": "code",
   "execution_count": 127,
   "id": "25521a24-9c78-4a4a-bc81-09ca5495e0ea",
   "metadata": {},
   "outputs": [],
   "source": [
    "sns.set_style('darkgrid')"
   ]
  },
  {
   "cell_type": "markdown",
   "id": "790c519d-d5da-4b9d-aa23-f3de3c9b8696",
   "metadata": {},
   "source": [
    "# Data Loading"
   ]
  },
  {
   "cell_type": "code",
   "execution_count": 8,
   "id": "7aa4c0d3-0988-4924-bc4b-e9afa0c9f144",
   "metadata": {},
   "outputs": [],
   "source": [
    "crime = pd.read_csv(\"../data/dataset-limpo.csv\")"
   ]
  },
  {
   "cell_type": "markdown",
   "id": "3f12afe9-23eb-4391-8477-a8f4a6a2480a",
   "metadata": {},
   "source": [
    "# Initial Analysis"
   ]
  },
  {
   "cell_type": "code",
   "execution_count": 9,
   "id": "07e4c349-4fc2-45d8-a47d-627332581ee6",
   "metadata": {},
   "outputs": [
    {
     "data": {
      "text/plain": [
       "Index(['id', 'bairro', 'created_at', 'descricao', 'endereco', 'id.1',\n",
       "       'ip_address_origin', 'latitude', 'longitude', 'registrou_bo', 'sexo',\n",
       "       'tipo_assalto_id', 'titulo', 'uri', 'user_id', 'valor_prejuizo',\n",
       "       'Bicicleta', 'Bolsa ou Mochila', 'Carteira', 'Cartão de Crédito',\n",
       "       'Celular', 'Computador', 'DVD', 'Dinheiro', 'Documentos',\n",
       "       'Equipamento de Som', 'Estepe', 'MP4 ou Ipod', 'Móveis', 'Notebook',\n",
       "       'Outros', 'Relógio', 'Som', 'Tablet', 'Tv', 'time'],\n",
       "      dtype='object')"
      ]
     },
     "execution_count": 9,
     "metadata": {},
     "output_type": "execute_result"
    }
   ],
   "source": [
    "crime.columns"
   ]
  },
  {
   "cell_type": "code",
   "execution_count": 10,
   "id": "1a9b8a8f-ffc5-4455-8bc9-a8f657598caf",
   "metadata": {},
   "outputs": [
    {
     "data": {
      "text/plain": [
       "(12899, 36)"
      ]
     },
     "execution_count": 10,
     "metadata": {},
     "output_type": "execute_result"
    }
   ],
   "source": [
    "crime.shape"
   ]
  },
  {
   "cell_type": "code",
   "execution_count": 11,
   "id": "958070c8-ce92-4d79-ba9f-c81a5ffc4ec4",
   "metadata": {},
   "outputs": [
    {
     "data": {
      "text/html": [
       "<div>\n",
       "<style scoped>\n",
       "    .dataframe tbody tr th:only-of-type {\n",
       "        vertical-align: middle;\n",
       "    }\n",
       "\n",
       "    .dataframe tbody tr th {\n",
       "        vertical-align: top;\n",
       "    }\n",
       "\n",
       "    .dataframe thead th {\n",
       "        text-align: right;\n",
       "    }\n",
       "</style>\n",
       "<table border=\"1\" class=\"dataframe\">\n",
       "  <thead>\n",
       "    <tr style=\"text-align: right;\">\n",
       "      <th></th>\n",
       "      <th>id</th>\n",
       "      <th>bairro</th>\n",
       "      <th>created_at</th>\n",
       "      <th>descricao</th>\n",
       "      <th>endereco</th>\n",
       "      <th>id.1</th>\n",
       "      <th>ip_address_origin</th>\n",
       "      <th>latitude</th>\n",
       "      <th>longitude</th>\n",
       "      <th>registrou_bo</th>\n",
       "      <th>...</th>\n",
       "      <th>Estepe</th>\n",
       "      <th>MP4 ou Ipod</th>\n",
       "      <th>Móveis</th>\n",
       "      <th>Notebook</th>\n",
       "      <th>Outros</th>\n",
       "      <th>Relógio</th>\n",
       "      <th>Som</th>\n",
       "      <th>Tablet</th>\n",
       "      <th>Tv</th>\n",
       "      <th>time</th>\n",
       "    </tr>\n",
       "  </thead>\n",
       "  <tbody>\n",
       "    <tr>\n",
       "      <th>0</th>\n",
       "      <td>49787</td>\n",
       "      <td>Butantã</td>\n",
       "      <td>2015-06-16 23:34:01.000</td>\n",
       "      <td>5 bandidos, armas, entraram em casa e vasculha...</td>\n",
       "      <td>Avenida Trona Constanzo, 177, Butantã</td>\n",
       "      <td>49787</td>\n",
       "      <td>NaN</td>\n",
       "      <td>-23.580973</td>\n",
       "      <td>-46.719192</td>\n",
       "      <td>True</td>\n",
       "      <td>...</td>\n",
       "      <td>NaN</td>\n",
       "      <td>True</td>\n",
       "      <td>NaN</td>\n",
       "      <td>True</td>\n",
       "      <td>NaN</td>\n",
       "      <td>NaN</td>\n",
       "      <td>True</td>\n",
       "      <td>True</td>\n",
       "      <td>True</td>\n",
       "      <td>2010-12-20 20:30:00.000</td>\n",
       "    </tr>\n",
       "    <tr>\n",
       "      <th>1</th>\n",
       "      <td>10679</td>\n",
       "      <td>Itaquera</td>\n",
       "      <td>2013-09-11 18:26:31.819</td>\n",
       "      <td>Meu caso foi para o Pequenas Causas, ganhamos ...</td>\n",
       "      <td>Avenida José Pinheiro Borges, 450-876 - Itaque...</td>\n",
       "      <td>10679</td>\n",
       "      <td>187.11.1.51</td>\n",
       "      <td>-23.540105</td>\n",
       "      <td>-46.462872</td>\n",
       "      <td>True</td>\n",
       "      <td>...</td>\n",
       "      <td>NaN</td>\n",
       "      <td>NaN</td>\n",
       "      <td>NaN</td>\n",
       "      <td>NaN</td>\n",
       "      <td>True</td>\n",
       "      <td>NaN</td>\n",
       "      <td>NaN</td>\n",
       "      <td>NaN</td>\n",
       "      <td>NaN</td>\n",
       "      <td>2012-01-11 14:00:00.000</td>\n",
       "    </tr>\n",
       "    <tr>\n",
       "      <th>2</th>\n",
       "      <td>10682</td>\n",
       "      <td>Itaquera</td>\n",
       "      <td>2013-09-11 18:42:07.858</td>\n",
       "      <td>Meu caso foi para o Pequenas Causas, ganhamos ...</td>\n",
       "      <td>Rua Corínthians - Itaquera - Shopping Metrô It...</td>\n",
       "      <td>10682</td>\n",
       "      <td>189.19.160.82</td>\n",
       "      <td>-23.541765</td>\n",
       "      <td>-46.469562</td>\n",
       "      <td>True</td>\n",
       "      <td>...</td>\n",
       "      <td>NaN</td>\n",
       "      <td>NaN</td>\n",
       "      <td>NaN</td>\n",
       "      <td>NaN</td>\n",
       "      <td>True</td>\n",
       "      <td>NaN</td>\n",
       "      <td>NaN</td>\n",
       "      <td>NaN</td>\n",
       "      <td>NaN</td>\n",
       "      <td>2012-01-11 14:00:00.000</td>\n",
       "    </tr>\n",
       "    <tr>\n",
       "      <th>3</th>\n",
       "      <td>6166</td>\n",
       "      <td>Morumbi</td>\n",
       "      <td>2013-08-20 11:56:52.717</td>\n",
       "      <td>Estava parada no semáforo, o bandido veio e es...</td>\n",
       "      <td>Rua Pasquale Gallupi, 347 - Morumbi, São Paulo...</td>\n",
       "      <td>6166</td>\n",
       "      <td>199.67.140.46</td>\n",
       "      <td>-23.611693</td>\n",
       "      <td>-46.725935</td>\n",
       "      <td>True</td>\n",
       "      <td>...</td>\n",
       "      <td>NaN</td>\n",
       "      <td>NaN</td>\n",
       "      <td>NaN</td>\n",
       "      <td>NaN</td>\n",
       "      <td>NaN</td>\n",
       "      <td>NaN</td>\n",
       "      <td>NaN</td>\n",
       "      <td>NaN</td>\n",
       "      <td>NaN</td>\n",
       "      <td>2012-01-11 18:20:00.000</td>\n",
       "    </tr>\n",
       "    <tr>\n",
       "      <th>4</th>\n",
       "      <td>6521</td>\n",
       "      <td>Alto de Pinheiros</td>\n",
       "      <td>2013-08-20 17:41:21.569</td>\n",
       "      <td>Arrombaram o porta malas do meu carro e levara...</td>\n",
       "      <td>Avenida Professor Fonseca Rodrigues, 1655 - Al...</td>\n",
       "      <td>6521</td>\n",
       "      <td>187.92.158.154</td>\n",
       "      <td>-23.544564</td>\n",
       "      <td>-46.721567</td>\n",
       "      <td>True</td>\n",
       "      <td>...</td>\n",
       "      <td>NaN</td>\n",
       "      <td>NaN</td>\n",
       "      <td>NaN</td>\n",
       "      <td>True</td>\n",
       "      <td>True</td>\n",
       "      <td>NaN</td>\n",
       "      <td>NaN</td>\n",
       "      <td>NaN</td>\n",
       "      <td>NaN</td>\n",
       "      <td>2012-01-11 08:15:00.000</td>\n",
       "    </tr>\n",
       "  </tbody>\n",
       "</table>\n",
       "<p>5 rows × 36 columns</p>\n",
       "</div>"
      ],
      "text/plain": [
       "      id             bairro               created_at  \\\n",
       "0  49787            Butantã  2015-06-16 23:34:01.000   \n",
       "1  10679           Itaquera  2013-09-11 18:26:31.819   \n",
       "2  10682           Itaquera  2013-09-11 18:42:07.858   \n",
       "3   6166            Morumbi  2013-08-20 11:56:52.717   \n",
       "4   6521  Alto de Pinheiros  2013-08-20 17:41:21.569   \n",
       "\n",
       "                                           descricao  \\\n",
       "0  5 bandidos, armas, entraram em casa e vasculha...   \n",
       "1  Meu caso foi para o Pequenas Causas, ganhamos ...   \n",
       "2  Meu caso foi para o Pequenas Causas, ganhamos ...   \n",
       "3  Estava parada no semáforo, o bandido veio e es...   \n",
       "4  Arrombaram o porta malas do meu carro e levara...   \n",
       "\n",
       "                                            endereco   id.1 ip_address_origin  \\\n",
       "0              Avenida Trona Constanzo, 177, Butantã  49787               NaN   \n",
       "1  Avenida José Pinheiro Borges, 450-876 - Itaque...  10679       187.11.1.51   \n",
       "2  Rua Corínthians - Itaquera - Shopping Metrô It...  10682     189.19.160.82   \n",
       "3  Rua Pasquale Gallupi, 347 - Morumbi, São Paulo...   6166     199.67.140.46   \n",
       "4  Avenida Professor Fonseca Rodrigues, 1655 - Al...   6521    187.92.158.154   \n",
       "\n",
       "    latitude  longitude registrou_bo  ...  Estepe  MP4 ou Ipod Móveis  \\\n",
       "0 -23.580973 -46.719192         True  ...     NaN         True    NaN   \n",
       "1 -23.540105 -46.462872         True  ...     NaN          NaN    NaN   \n",
       "2 -23.541765 -46.469562         True  ...     NaN          NaN    NaN   \n",
       "3 -23.611693 -46.725935         True  ...     NaN          NaN    NaN   \n",
       "4 -23.544564 -46.721567         True  ...     NaN          NaN    NaN   \n",
       "\n",
       "  Notebook  Outros  Relógio   Som Tablet    Tv                     time  \n",
       "0     True     NaN      NaN  True   True  True  2010-12-20 20:30:00.000  \n",
       "1      NaN    True      NaN   NaN    NaN   NaN  2012-01-11 14:00:00.000  \n",
       "2      NaN    True      NaN   NaN    NaN   NaN  2012-01-11 14:00:00.000  \n",
       "3      NaN     NaN      NaN   NaN    NaN   NaN  2012-01-11 18:20:00.000  \n",
       "4     True    True      NaN   NaN    NaN   NaN  2012-01-11 08:15:00.000  \n",
       "\n",
       "[5 rows x 36 columns]"
      ]
     },
     "execution_count": 11,
     "metadata": {},
     "output_type": "execute_result"
    }
   ],
   "source": [
    "crime.head()"
   ]
  },
  {
   "cell_type": "code",
   "execution_count": 12,
   "id": "8e966a1d-3f9e-45cc-90fb-eaf490042ee3",
   "metadata": {},
   "outputs": [
    {
     "name": "stdout",
     "output_type": "stream",
     "text": [
      "<class 'pandas.core.frame.DataFrame'>\n",
      "RangeIndex: 12899 entries, 0 to 12898\n",
      "Data columns (total 36 columns):\n",
      " #   Column              Non-Null Count  Dtype  \n",
      "---  ------              --------------  -----  \n",
      " 0   id                  12899 non-null  int64  \n",
      " 1   bairro              11196 non-null  object \n",
      " 2   created_at          12899 non-null  object \n",
      " 3   descricao           12898 non-null  object \n",
      " 4   endereco            12899 non-null  object \n",
      " 5   id.1                12899 non-null  int64  \n",
      " 6   ip_address_origin   11705 non-null  object \n",
      " 7   latitude            12899 non-null  float64\n",
      " 8   longitude           12899 non-null  float64\n",
      " 9   registrou_bo        12375 non-null  object \n",
      " 10  sexo                12899 non-null  int64  \n",
      " 11  tipo_assalto_id     12899 non-null  int64  \n",
      " 12  titulo              12899 non-null  object \n",
      " 13  uri                 12899 non-null  object \n",
      " 14  user_id             1166 non-null   float64\n",
      " 15  valor_prejuizo      12899 non-null  float64\n",
      " 16  Bicicleta           256 non-null    object \n",
      " 17  Bolsa ou Mochila    3631 non-null   object \n",
      " 18  Carteira            4243 non-null   object \n",
      " 19  Cartão de Crédito   2776 non-null   object \n",
      " 20  Celular             8377 non-null   object \n",
      " 21  Computador          112 non-null    object \n",
      " 22  DVD                 94 non-null     object \n",
      " 23  Dinheiro            1730 non-null   object \n",
      " 24  Documentos          3660 non-null   object \n",
      " 25  Equipamento de Som  239 non-null    object \n",
      " 26  Estepe              324 non-null    object \n",
      " 27  MP4 ou Ipod         552 non-null    object \n",
      " 28  Móveis              45 non-null     object \n",
      " 29  Notebook            764 non-null    object \n",
      " 30  Outros              5243 non-null   object \n",
      " 31  Relógio             1350 non-null   object \n",
      " 32  Som                 106 non-null    object \n",
      " 33  Tablet              443 non-null    object \n",
      " 34  Tv                  178 non-null    object \n",
      " 35  time                12899 non-null  object \n",
      "dtypes: float64(4), int64(4), object(28)\n",
      "memory usage: 3.5+ MB\n"
     ]
    }
   ],
   "source": [
    "crime.info()"
   ]
  },
  {
   "cell_type": "markdown",
   "id": "8feb863b-db12-4f33-b5d5-e162bc62b45a",
   "metadata": {},
   "source": [
    "As colunas id, id.1, ip_address_origin nao tem relevância para a análise e por isso serão eliminadas"
   ]
  },
  {
   "cell_type": "code",
   "execution_count": 13,
   "id": "22b9b1d7-e23e-49c8-af66-ca4e69abc7bc",
   "metadata": {},
   "outputs": [],
   "source": [
    "crime.drop(['id','id.1','ip_address_origin', 'user_id', 'uri'], axis = 1, inplace = True)"
   ]
  },
  {
   "cell_type": "markdown",
   "id": "406aa0a3-0b96-43b7-8ec4-422b9e16f2be",
   "metadata": {
    "tags": []
   },
   "source": [
    "# Missing Values"
   ]
  },
  {
   "cell_type": "markdown",
   "id": "de7bf74f-52c5-425d-b51d-48f3bedfda3a",
   "metadata": {},
   "source": [
    "As colunas Bicicleta a TV são variáveis booleanas que indicam se o referido item foi roubado na ocorrência. As ocorrências onde um item não foi dado como furtado foram atribuídas como NA durante o Scraping. O mesmo ocorre com a variáivel de registro de BO. Para viabilizar as operações com essas colunas, os valores NA serão substituídos por False."
   ]
  },
  {
   "cell_type": "code",
   "execution_count": 14,
   "id": "a5d2b66c-9800-4927-83c8-2f8a0fe49428",
   "metadata": {},
   "outputs": [],
   "source": [
    "crime.loc[:,'Bicicleta':'Tv'] = crime.loc[:,'Bicicleta':'Tv'].fillna(value = False)"
   ]
  },
  {
   "cell_type": "code",
   "execution_count": 15,
   "id": "8c4dff64-d37f-43dd-8cee-a0b7fce57607",
   "metadata": {},
   "outputs": [],
   "source": [
    "crime.loc[:,'registrou_bo'] = crime.loc[:,'registrou_bo'].fillna(value = False)"
   ]
  },
  {
   "cell_type": "markdown",
   "id": "6d02126f-12fd-4a52-8628-a7ec3b6076cb",
   "metadata": {},
   "source": [
    "## Events Through Time"
   ]
  },
  {
   "cell_type": "markdown",
   "id": "dffadbfd-5437-43a0-8f6c-32bc05f74c66",
   "metadata": {},
   "source": [
    "### Occurrences over the years"
   ]
  },
  {
   "cell_type": "code",
   "execution_count": 16,
   "id": "f53ef6f5-68a9-402f-b697-f1bc6d62a9b9",
   "metadata": {},
   "outputs": [],
   "source": [
    "crime['time'] = pd.to_datetime(crime.time)\n",
    "crime['created_at'] = pd.to_datetime(crime.created_at)\n"
   ]
  },
  {
   "cell_type": "code",
   "execution_count": 17,
   "id": "e5cf7d2a-5a0f-4dd0-a7d3-db639185b040",
   "metadata": {},
   "outputs": [
    {
     "data": {
      "text/plain": [
       "(Timestamp('2010-03-14 09:26:00'), Timestamp('2018-03-20 22:05:00'))"
      ]
     },
     "execution_count": 17,
     "metadata": {},
     "output_type": "execute_result"
    }
   ],
   "source": [
    "crime.time.min(), crime.time.max()"
   ]
  },
  {
   "cell_type": "markdown",
   "id": "ec1ab1df-ac48-4b21-b758-63d6fac88a78",
   "metadata": {},
   "source": [
    "Os eventos registram ocorrência do mês de março de 2010 até o março de 2018."
   ]
  },
  {
   "cell_type": "code",
   "execution_count": 18,
   "id": "f34b1ec8-0393-48c1-aae2-09fb42ce1d96",
   "metadata": {},
   "outputs": [
    {
     "data": {
      "text/plain": [
       "Index(['Bicicleta', 'Bolsa ou Mochila', 'Carteira', 'Cartão de Crédito',\n",
       "       'Celular', 'Computador', 'DVD', 'Dinheiro', 'Documentos',\n",
       "       'Equipamento de Som', 'Estepe', 'MP4 ou Ipod', 'Móveis', 'Notebook',\n",
       "       'Outros', 'Relógio', 'Som', 'Tablet', 'Tv'],\n",
       "      dtype='object')"
      ]
     },
     "execution_count": 18,
     "metadata": {},
     "output_type": "execute_result"
    }
   ],
   "source": [
    "crime.columns[11:30]"
   ]
  },
  {
   "cell_type": "code",
   "execution_count": 21,
   "id": "f8dcaddf-5545-405b-9daf-37bff76cb5d4",
   "metadata": {},
   "outputs": [],
   "source": [
    "ts = crime.set_index('time').iloc[:,11:30].resample('3M').sum()"
   ]
  },
  {
   "cell_type": "code",
   "execution_count": 22,
   "id": "5af65675-50af-4d29-b439-b646c636d715",
   "metadata": {},
   "outputs": [],
   "source": [
    "ts['Total'] = ts.sum(axis=1)"
   ]
  },
  {
   "cell_type": "code",
   "execution_count": 27,
   "id": "89476347-14e5-4523-b5fc-5c6f5b240dab",
   "metadata": {},
   "outputs": [
    {
     "data": {
      "application/vnd.plotly.v1+json": {
       "config": {
        "plotlyServerURL": "https://plot.ly"
       },
       "data": [
        {
         "hovertemplate": "variable=Bicicleta<br>time=%{x}<br># Item=%{y}<extra></extra>",
         "legendgroup": "Bicicleta",
         "line": {
          "color": "#636efa",
          "dash": "solid"
         },
         "marker": {
          "symbol": "circle"
         },
         "mode": "lines+markers",
         "name": "Bicicleta",
         "orientation": "v",
         "selectedpoints": [
          19
         ],
         "showlegend": true,
         "type": "scatter",
         "x": [
          "2010-03-31T00:00:00",
          "2010-06-30T00:00:00",
          "2010-09-30T00:00:00",
          "2010-12-31T00:00:00",
          "2011-03-31T00:00:00",
          "2011-06-30T00:00:00",
          "2011-09-30T00:00:00",
          "2011-12-31T00:00:00",
          "2012-03-31T00:00:00",
          "2012-06-30T00:00:00",
          "2012-09-30T00:00:00",
          "2012-12-31T00:00:00",
          "2013-03-31T00:00:00",
          "2013-06-30T00:00:00",
          "2013-09-30T00:00:00",
          "2013-12-31T00:00:00",
          "2014-03-31T00:00:00",
          "2014-06-30T00:00:00",
          "2014-09-30T00:00:00",
          "2014-12-31T00:00:00",
          "2015-03-31T00:00:00",
          "2015-06-30T00:00:00",
          "2015-09-30T00:00:00",
          "2015-12-31T00:00:00",
          "2016-03-31T00:00:00",
          "2016-06-30T00:00:00",
          "2016-09-30T00:00:00",
          "2016-12-31T00:00:00",
          "2017-03-31T00:00:00",
          "2017-06-30T00:00:00",
          "2017-09-30T00:00:00",
          "2017-12-31T00:00:00",
          "2018-03-31T00:00:00"
         ],
         "xaxis": "x",
         "y": [
          0,
          0,
          0,
          0,
          0,
          0,
          0,
          0,
          1,
          1,
          1,
          3,
          2,
          3,
          3,
          13,
          11,
          8,
          15,
          17,
          8,
          17,
          12,
          15,
          13,
          21,
          16,
          20,
          18,
          14,
          13,
          3,
          8
         ],
         "yaxis": "y"
        },
        {
         "hovertemplate": "variable=Bolsa ou Mochila<br>time=%{x}<br># Item=%{y}<extra></extra>",
         "legendgroup": "Bolsa ou Mochila",
         "line": {
          "color": "#EF553B",
          "dash": "solid"
         },
         "marker": {
          "symbol": "circle"
         },
         "mode": "lines+markers",
         "name": "Bolsa ou Mochila",
         "orientation": "v",
         "selectedpoints": [],
         "showlegend": true,
         "type": "scatter",
         "x": [
          "2010-03-31T00:00:00",
          "2010-06-30T00:00:00",
          "2010-09-30T00:00:00",
          "2010-12-31T00:00:00",
          "2011-03-31T00:00:00",
          "2011-06-30T00:00:00",
          "2011-09-30T00:00:00",
          "2011-12-31T00:00:00",
          "2012-03-31T00:00:00",
          "2012-06-30T00:00:00",
          "2012-09-30T00:00:00",
          "2012-12-31T00:00:00",
          "2013-03-31T00:00:00",
          "2013-06-30T00:00:00",
          "2013-09-30T00:00:00",
          "2013-12-31T00:00:00",
          "2014-03-31T00:00:00",
          "2014-06-30T00:00:00",
          "2014-09-30T00:00:00",
          "2014-12-31T00:00:00",
          "2015-03-31T00:00:00",
          "2015-06-30T00:00:00",
          "2015-09-30T00:00:00",
          "2015-12-31T00:00:00",
          "2016-03-31T00:00:00",
          "2016-06-30T00:00:00",
          "2016-09-30T00:00:00",
          "2016-12-31T00:00:00",
          "2017-03-31T00:00:00",
          "2017-06-30T00:00:00",
          "2017-09-30T00:00:00",
          "2017-12-31T00:00:00",
          "2018-03-31T00:00:00"
         ],
         "xaxis": "x",
         "y": [
          2,
          1,
          1,
          1,
          0,
          0,
          1,
          3,
          30,
          24,
          39,
          31,
          97,
          127,
          256,
          199,
          206,
          345,
          377,
          275,
          158,
          109,
          121,
          143,
          165,
          147,
          164,
          175,
          117,
          102,
          89,
          71,
          55
         ],
         "yaxis": "y"
        },
        {
         "hovertemplate": "variable=Carteira<br>time=%{x}<br># Item=%{y}<extra></extra>",
         "legendgroup": "Carteira",
         "line": {
          "color": "#00cc96",
          "dash": "solid"
         },
         "marker": {
          "symbol": "circle"
         },
         "mode": "lines+markers",
         "name": "Carteira",
         "orientation": "v",
         "selectedpoints": [],
         "showlegend": true,
         "type": "scatter",
         "x": [
          "2010-03-31T00:00:00",
          "2010-06-30T00:00:00",
          "2010-09-30T00:00:00",
          "2010-12-31T00:00:00",
          "2011-03-31T00:00:00",
          "2011-06-30T00:00:00",
          "2011-09-30T00:00:00",
          "2011-12-31T00:00:00",
          "2012-03-31T00:00:00",
          "2012-06-30T00:00:00",
          "2012-09-30T00:00:00",
          "2012-12-31T00:00:00",
          "2013-03-31T00:00:00",
          "2013-06-30T00:00:00",
          "2013-09-30T00:00:00",
          "2013-12-31T00:00:00",
          "2014-03-31T00:00:00",
          "2014-06-30T00:00:00",
          "2014-09-30T00:00:00",
          "2014-12-31T00:00:00",
          "2015-03-31T00:00:00",
          "2015-06-30T00:00:00",
          "2015-09-30T00:00:00",
          "2015-12-31T00:00:00",
          "2016-03-31T00:00:00",
          "2016-06-30T00:00:00",
          "2016-09-30T00:00:00",
          "2016-12-31T00:00:00",
          "2017-03-31T00:00:00",
          "2017-06-30T00:00:00",
          "2017-09-30T00:00:00",
          "2017-12-31T00:00:00",
          "2018-03-31T00:00:00"
         ],
         "xaxis": "x",
         "y": [
          3,
          1,
          1,
          2,
          0,
          0,
          0,
          3,
          41,
          36,
          44,
          34,
          120,
          156,
          289,
          248,
          259,
          424,
          427,
          339,
          177,
          115,
          140,
          145,
          187,
          163,
          198,
          178,
          151,
          128,
          105,
          79,
          50
         ],
         "yaxis": "y"
        },
        {
         "hovertemplate": "variable=Cartão de Crédito<br>time=%{x}<br># Item=%{y}<extra></extra>",
         "legendgroup": "Cartão de Crédito",
         "line": {
          "color": "#ab63fa",
          "dash": "solid"
         },
         "marker": {
          "symbol": "circle"
         },
         "mode": "lines+markers",
         "name": "Cartão de Crédito",
         "orientation": "v",
         "selectedpoints": [],
         "showlegend": true,
         "type": "scatter",
         "x": [
          "2010-03-31T00:00:00",
          "2010-06-30T00:00:00",
          "2010-09-30T00:00:00",
          "2010-12-31T00:00:00",
          "2011-03-31T00:00:00",
          "2011-06-30T00:00:00",
          "2011-09-30T00:00:00",
          "2011-12-31T00:00:00",
          "2012-03-31T00:00:00",
          "2012-06-30T00:00:00",
          "2012-09-30T00:00:00",
          "2012-12-31T00:00:00",
          "2013-03-31T00:00:00",
          "2013-06-30T00:00:00",
          "2013-09-30T00:00:00",
          "2013-12-31T00:00:00",
          "2014-03-31T00:00:00",
          "2014-06-30T00:00:00",
          "2014-09-30T00:00:00",
          "2014-12-31T00:00:00",
          "2015-03-31T00:00:00",
          "2015-06-30T00:00:00",
          "2015-09-30T00:00:00",
          "2015-12-31T00:00:00",
          "2016-03-31T00:00:00",
          "2016-06-30T00:00:00",
          "2016-09-30T00:00:00",
          "2016-12-31T00:00:00",
          "2017-03-31T00:00:00",
          "2017-06-30T00:00:00",
          "2017-09-30T00:00:00",
          "2017-12-31T00:00:00",
          "2018-03-31T00:00:00"
         ],
         "xaxis": "x",
         "y": [
          2,
          0,
          0,
          1,
          0,
          0,
          0,
          2,
          28,
          24,
          28,
          29,
          76,
          105,
          196,
          168,
          162,
          245,
          295,
          208,
          113,
          72,
          96,
          104,
          121,
          101,
          127,
          118,
          99,
          95,
          75,
          53,
          33
         ],
         "yaxis": "y"
        },
        {
         "hovertemplate": "variable=Celular<br>time=%{x}<br># Item=%{y}<extra></extra>",
         "legendgroup": "Celular",
         "line": {
          "color": "#FFA15A",
          "dash": "solid"
         },
         "marker": {
          "symbol": "circle"
         },
         "mode": "lines+markers",
         "name": "Celular",
         "orientation": "v",
         "selectedpoints": [],
         "showlegend": true,
         "type": "scatter",
         "x": [
          "2010-03-31T00:00:00",
          "2010-06-30T00:00:00",
          "2010-09-30T00:00:00",
          "2010-12-31T00:00:00",
          "2011-03-31T00:00:00",
          "2011-06-30T00:00:00",
          "2011-09-30T00:00:00",
          "2011-12-31T00:00:00",
          "2012-03-31T00:00:00",
          "2012-06-30T00:00:00",
          "2012-09-30T00:00:00",
          "2012-12-31T00:00:00",
          "2013-03-31T00:00:00",
          "2013-06-30T00:00:00",
          "2013-09-30T00:00:00",
          "2013-12-31T00:00:00",
          "2014-03-31T00:00:00",
          "2014-06-30T00:00:00",
          "2014-09-30T00:00:00",
          "2014-12-31T00:00:00",
          "2015-03-31T00:00:00",
          "2015-06-30T00:00:00",
          "2015-09-30T00:00:00",
          "2015-12-31T00:00:00",
          "2016-03-31T00:00:00",
          "2016-06-30T00:00:00",
          "2016-09-30T00:00:00",
          "2016-12-31T00:00:00",
          "2017-03-31T00:00:00",
          "2017-06-30T00:00:00",
          "2017-09-30T00:00:00",
          "2017-12-31T00:00:00",
          "2018-03-31T00:00:00"
         ],
         "xaxis": "x",
         "y": [
          2,
          2,
          1,
          3,
          1,
          0,
          0,
          4,
          66,
          64,
          64,
          72,
          204,
          315,
          605,
          413,
          449,
          776,
          809,
          675,
          369,
          233,
          288,
          286,
          384,
          349,
          403,
          415,
          309,
          258,
          258,
          161,
          139
         ],
         "yaxis": "y"
        },
        {
         "hovertemplate": "variable=Computador<br>time=%{x}<br># Item=%{y}<extra></extra>",
         "legendgroup": "Computador",
         "line": {
          "color": "#19d3f3",
          "dash": "solid"
         },
         "marker": {
          "symbol": "circle"
         },
         "mode": "lines+markers",
         "name": "Computador",
         "orientation": "v",
         "selectedpoints": [
          19
         ],
         "showlegend": true,
         "type": "scatter",
         "x": [
          "2010-03-31T00:00:00",
          "2010-06-30T00:00:00",
          "2010-09-30T00:00:00",
          "2010-12-31T00:00:00",
          "2011-03-31T00:00:00",
          "2011-06-30T00:00:00",
          "2011-09-30T00:00:00",
          "2011-12-31T00:00:00",
          "2012-03-31T00:00:00",
          "2012-06-30T00:00:00",
          "2012-09-30T00:00:00",
          "2012-12-31T00:00:00",
          "2013-03-31T00:00:00",
          "2013-06-30T00:00:00",
          "2013-09-30T00:00:00",
          "2013-12-31T00:00:00",
          "2014-03-31T00:00:00",
          "2014-06-30T00:00:00",
          "2014-09-30T00:00:00",
          "2014-12-31T00:00:00",
          "2015-03-31T00:00:00",
          "2015-06-30T00:00:00",
          "2015-09-30T00:00:00",
          "2015-12-31T00:00:00",
          "2016-03-31T00:00:00",
          "2016-06-30T00:00:00",
          "2016-09-30T00:00:00",
          "2016-12-31T00:00:00",
          "2017-03-31T00:00:00",
          "2017-06-30T00:00:00",
          "2017-09-30T00:00:00",
          "2017-12-31T00:00:00",
          "2018-03-31T00:00:00"
         ],
         "xaxis": "x",
         "y": [
          0,
          0,
          0,
          0,
          0,
          0,
          0,
          0,
          1,
          0,
          2,
          2,
          1,
          4,
          5,
          12,
          4,
          6,
          10,
          11,
          2,
          6,
          3,
          5,
          6,
          8,
          3,
          4,
          5,
          1,
          8,
          1,
          2
         ],
         "yaxis": "y"
        },
        {
         "hovertemplate": "variable=DVD<br>time=%{x}<br># Item=%{y}<extra></extra>",
         "legendgroup": "DVD",
         "line": {
          "color": "#FF6692",
          "dash": "solid"
         },
         "marker": {
          "symbol": "circle"
         },
         "mode": "lines+markers",
         "name": "DVD",
         "orientation": "v",
         "selectedpoints": [
          19
         ],
         "showlegend": true,
         "type": "scatter",
         "x": [
          "2010-03-31T00:00:00",
          "2010-06-30T00:00:00",
          "2010-09-30T00:00:00",
          "2010-12-31T00:00:00",
          "2011-03-31T00:00:00",
          "2011-06-30T00:00:00",
          "2011-09-30T00:00:00",
          "2011-12-31T00:00:00",
          "2012-03-31T00:00:00",
          "2012-06-30T00:00:00",
          "2012-09-30T00:00:00",
          "2012-12-31T00:00:00",
          "2013-03-31T00:00:00",
          "2013-06-30T00:00:00",
          "2013-09-30T00:00:00",
          "2013-12-31T00:00:00",
          "2014-03-31T00:00:00",
          "2014-06-30T00:00:00",
          "2014-09-30T00:00:00",
          "2014-12-31T00:00:00",
          "2015-03-31T00:00:00",
          "2015-06-30T00:00:00",
          "2015-09-30T00:00:00",
          "2015-12-31T00:00:00",
          "2016-03-31T00:00:00",
          "2016-06-30T00:00:00",
          "2016-09-30T00:00:00",
          "2016-12-31T00:00:00",
          "2017-03-31T00:00:00",
          "2017-06-30T00:00:00",
          "2017-09-30T00:00:00",
          "2017-12-31T00:00:00",
          "2018-03-31T00:00:00"
         ],
         "xaxis": "x",
         "y": [
          0,
          0,
          0,
          1,
          0,
          1,
          0,
          0,
          1,
          0,
          3,
          2,
          4,
          3,
          4,
          8,
          3,
          5,
          5,
          6,
          0,
          5,
          1,
          5,
          10,
          5,
          3,
          8,
          1,
          1,
          8,
          1,
          0
         ],
         "yaxis": "y"
        },
        {
         "hovertemplate": "variable=Dinheiro<br>time=%{x}<br># Item=%{y}<extra></extra>",
         "legendgroup": "Dinheiro",
         "line": {
          "color": "#B6E880",
          "dash": "solid"
         },
         "marker": {
          "symbol": "circle"
         },
         "mode": "lines+markers",
         "name": "Dinheiro",
         "orientation": "v",
         "selectedpoints": [
          19
         ],
         "showlegend": true,
         "type": "scatter",
         "x": [
          "2010-03-31T00:00:00",
          "2010-06-30T00:00:00",
          "2010-09-30T00:00:00",
          "2010-12-31T00:00:00",
          "2011-03-31T00:00:00",
          "2011-06-30T00:00:00",
          "2011-09-30T00:00:00",
          "2011-12-31T00:00:00",
          "2012-03-31T00:00:00",
          "2012-06-30T00:00:00",
          "2012-09-30T00:00:00",
          "2012-12-31T00:00:00",
          "2013-03-31T00:00:00",
          "2013-06-30T00:00:00",
          "2013-09-30T00:00:00",
          "2013-12-31T00:00:00",
          "2014-03-31T00:00:00",
          "2014-06-30T00:00:00",
          "2014-09-30T00:00:00",
          "2014-12-31T00:00:00",
          "2015-03-31T00:00:00",
          "2015-06-30T00:00:00",
          "2015-09-30T00:00:00",
          "2015-12-31T00:00:00",
          "2016-03-31T00:00:00",
          "2016-06-30T00:00:00",
          "2016-09-30T00:00:00",
          "2016-12-31T00:00:00",
          "2017-03-31T00:00:00",
          "2017-06-30T00:00:00",
          "2017-09-30T00:00:00",
          "2017-12-31T00:00:00",
          "2018-03-31T00:00:00"
         ],
         "xaxis": "x",
         "y": [
          1,
          1,
          1,
          2,
          0,
          1,
          0,
          3,
          6,
          3,
          5,
          4,
          3,
          4,
          6,
          6,
          8,
          16,
          8,
          20,
          25,
          94,
          129,
          146,
          176,
          164,
          188,
          186,
          131,
          132,
          114,
          90,
          57
         ],
         "yaxis": "y"
        },
        {
         "hovertemplate": "variable=Documentos<br>time=%{x}<br># Item=%{y}<extra></extra>",
         "legendgroup": "Documentos",
         "line": {
          "color": "#FF97FF",
          "dash": "solid"
         },
         "marker": {
          "symbol": "circle"
         },
         "mode": "lines+markers",
         "name": "Documentos",
         "orientation": "v",
         "selectedpoints": [],
         "showlegend": true,
         "type": "scatter",
         "x": [
          "2010-03-31T00:00:00",
          "2010-06-30T00:00:00",
          "2010-09-30T00:00:00",
          "2010-12-31T00:00:00",
          "2011-03-31T00:00:00",
          "2011-06-30T00:00:00",
          "2011-09-30T00:00:00",
          "2011-12-31T00:00:00",
          "2012-03-31T00:00:00",
          "2012-06-30T00:00:00",
          "2012-09-30T00:00:00",
          "2012-12-31T00:00:00",
          "2013-03-31T00:00:00",
          "2013-06-30T00:00:00",
          "2013-09-30T00:00:00",
          "2013-12-31T00:00:00",
          "2014-03-31T00:00:00",
          "2014-06-30T00:00:00",
          "2014-09-30T00:00:00",
          "2014-12-31T00:00:00",
          "2015-03-31T00:00:00",
          "2015-06-30T00:00:00",
          "2015-09-30T00:00:00",
          "2015-12-31T00:00:00",
          "2016-03-31T00:00:00",
          "2016-06-30T00:00:00",
          "2016-09-30T00:00:00",
          "2016-12-31T00:00:00",
          "2017-03-31T00:00:00",
          "2017-06-30T00:00:00",
          "2017-09-30T00:00:00",
          "2017-12-31T00:00:00",
          "2018-03-31T00:00:00"
         ],
         "xaxis": "x",
         "y": [
          2,
          0,
          1,
          0,
          0,
          0,
          0,
          2,
          34,
          27,
          35,
          32,
          96,
          124,
          251,
          211,
          218,
          364,
          366,
          288,
          151,
          97,
          117,
          136,
          158,
          146,
          164,
          159,
          136,
          131,
          89,
          75,
          50
         ],
         "yaxis": "y"
        },
        {
         "hovertemplate": "variable=Equipamento de Som<br>time=%{x}<br># Item=%{y}<extra></extra>",
         "legendgroup": "Equipamento de Som",
         "line": {
          "color": "#FECB52",
          "dash": "solid"
         },
         "marker": {
          "symbol": "circle"
         },
         "mode": "lines+markers",
         "name": "Equipamento de Som",
         "orientation": "v",
         "selectedpoints": [
          19
         ],
         "showlegend": true,
         "type": "scatter",
         "x": [
          "2010-03-31T00:00:00",
          "2010-06-30T00:00:00",
          "2010-09-30T00:00:00",
          "2010-12-31T00:00:00",
          "2011-03-31T00:00:00",
          "2011-06-30T00:00:00",
          "2011-09-30T00:00:00",
          "2011-12-31T00:00:00",
          "2012-03-31T00:00:00",
          "2012-06-30T00:00:00",
          "2012-09-30T00:00:00",
          "2012-12-31T00:00:00",
          "2013-03-31T00:00:00",
          "2013-06-30T00:00:00",
          "2013-09-30T00:00:00",
          "2013-12-31T00:00:00",
          "2014-03-31T00:00:00",
          "2014-06-30T00:00:00",
          "2014-09-30T00:00:00",
          "2014-12-31T00:00:00",
          "2015-03-31T00:00:00",
          "2015-06-30T00:00:00",
          "2015-09-30T00:00:00",
          "2015-12-31T00:00:00",
          "2016-03-31T00:00:00",
          "2016-06-30T00:00:00",
          "2016-09-30T00:00:00",
          "2016-12-31T00:00:00",
          "2017-03-31T00:00:00",
          "2017-06-30T00:00:00",
          "2017-09-30T00:00:00",
          "2017-12-31T00:00:00",
          "2018-03-31T00:00:00"
         ],
         "xaxis": "x",
         "y": [
          0,
          0,
          1,
          1,
          0,
          0,
          0,
          0,
          0,
          1,
          1,
          4,
          4,
          10,
          33,
          9,
          14,
          28,
          22,
          20,
          6,
          12,
          8,
          4,
          13,
          6,
          12,
          11,
          4,
          4,
          7,
          4,
          0
         ],
         "yaxis": "y"
        },
        {
         "hovertemplate": "variable=Estepe<br>time=%{x}<br># Item=%{y}<extra></extra>",
         "legendgroup": "Estepe",
         "line": {
          "color": "#636efa",
          "dash": "solid"
         },
         "marker": {
          "symbol": "circle"
         },
         "mode": "lines+markers",
         "name": "Estepe",
         "orientation": "v",
         "selectedpoints": [
          19
         ],
         "showlegend": true,
         "type": "scatter",
         "x": [
          "2010-03-31T00:00:00",
          "2010-06-30T00:00:00",
          "2010-09-30T00:00:00",
          "2010-12-31T00:00:00",
          "2011-03-31T00:00:00",
          "2011-06-30T00:00:00",
          "2011-09-30T00:00:00",
          "2011-12-31T00:00:00",
          "2012-03-31T00:00:00",
          "2012-06-30T00:00:00",
          "2012-09-30T00:00:00",
          "2012-12-31T00:00:00",
          "2013-03-31T00:00:00",
          "2013-06-30T00:00:00",
          "2013-09-30T00:00:00",
          "2013-12-31T00:00:00",
          "2014-03-31T00:00:00",
          "2014-06-30T00:00:00",
          "2014-09-30T00:00:00",
          "2014-12-31T00:00:00",
          "2015-03-31T00:00:00",
          "2015-06-30T00:00:00",
          "2015-09-30T00:00:00",
          "2015-12-31T00:00:00",
          "2016-03-31T00:00:00",
          "2016-06-30T00:00:00",
          "2016-09-30T00:00:00",
          "2016-12-31T00:00:00",
          "2017-03-31T00:00:00",
          "2017-06-30T00:00:00",
          "2017-09-30T00:00:00",
          "2017-12-31T00:00:00",
          "2018-03-31T00:00:00"
         ],
         "xaxis": "x",
         "y": [
          0,
          0,
          0,
          0,
          0,
          0,
          0,
          0,
          2,
          1,
          0,
          0,
          2,
          11,
          23,
          17,
          10,
          19,
          56,
          29,
          22,
          16,
          16,
          9,
          15,
          6,
          8,
          27,
          8,
          8,
          8,
          9,
          2
         ],
         "yaxis": "y"
        },
        {
         "hovertemplate": "variable=MP4 ou Ipod<br>time=%{x}<br># Item=%{y}<extra></extra>",
         "legendgroup": "MP4 ou Ipod",
         "line": {
          "color": "#EF553B",
          "dash": "solid"
         },
         "marker": {
          "symbol": "circle"
         },
         "mode": "lines+markers",
         "name": "MP4 ou Ipod",
         "orientation": "v",
         "selectedpoints": [
          19
         ],
         "showlegend": true,
         "type": "scatter",
         "x": [
          "2010-03-31T00:00:00",
          "2010-06-30T00:00:00",
          "2010-09-30T00:00:00",
          "2010-12-31T00:00:00",
          "2011-03-31T00:00:00",
          "2011-06-30T00:00:00",
          "2011-09-30T00:00:00",
          "2011-12-31T00:00:00",
          "2012-03-31T00:00:00",
          "2012-06-30T00:00:00",
          "2012-09-30T00:00:00",
          "2012-12-31T00:00:00",
          "2013-03-31T00:00:00",
          "2013-06-30T00:00:00",
          "2013-09-30T00:00:00",
          "2013-12-31T00:00:00",
          "2014-03-31T00:00:00",
          "2014-06-30T00:00:00",
          "2014-09-30T00:00:00",
          "2014-12-31T00:00:00",
          "2015-03-31T00:00:00",
          "2015-06-30T00:00:00",
          "2015-09-30T00:00:00",
          "2015-12-31T00:00:00",
          "2016-03-31T00:00:00",
          "2016-06-30T00:00:00",
          "2016-09-30T00:00:00",
          "2016-12-31T00:00:00",
          "2017-03-31T00:00:00",
          "2017-06-30T00:00:00",
          "2017-09-30T00:00:00",
          "2017-12-31T00:00:00",
          "2018-03-31T00:00:00"
         ],
         "xaxis": "x",
         "y": [
          0,
          0,
          0,
          1,
          0,
          0,
          0,
          1,
          12,
          9,
          13,
          9,
          31,
          27,
          64,
          45,
          38,
          64,
          47,
          42,
          21,
          17,
          11,
          15,
          14,
          14,
          6,
          9,
          13,
          13,
          8,
          6,
          2
         ],
         "yaxis": "y"
        },
        {
         "hovertemplate": "variable=Móveis<br>time=%{x}<br># Item=%{y}<extra></extra>",
         "legendgroup": "Móveis",
         "line": {
          "color": "#00cc96",
          "dash": "solid"
         },
         "marker": {
          "symbol": "circle"
         },
         "mode": "lines+markers",
         "name": "Móveis",
         "orientation": "v",
         "selectedpoints": [
          19
         ],
         "showlegend": true,
         "type": "scatter",
         "x": [
          "2010-03-31T00:00:00",
          "2010-06-30T00:00:00",
          "2010-09-30T00:00:00",
          "2010-12-31T00:00:00",
          "2011-03-31T00:00:00",
          "2011-06-30T00:00:00",
          "2011-09-30T00:00:00",
          "2011-12-31T00:00:00",
          "2012-03-31T00:00:00",
          "2012-06-30T00:00:00",
          "2012-09-30T00:00:00",
          "2012-12-31T00:00:00",
          "2013-03-31T00:00:00",
          "2013-06-30T00:00:00",
          "2013-09-30T00:00:00",
          "2013-12-31T00:00:00",
          "2014-03-31T00:00:00",
          "2014-06-30T00:00:00",
          "2014-09-30T00:00:00",
          "2014-12-31T00:00:00",
          "2015-03-31T00:00:00",
          "2015-06-30T00:00:00",
          "2015-09-30T00:00:00",
          "2015-12-31T00:00:00",
          "2016-03-31T00:00:00",
          "2016-06-30T00:00:00",
          "2016-09-30T00:00:00",
          "2016-12-31T00:00:00",
          "2017-03-31T00:00:00",
          "2017-06-30T00:00:00",
          "2017-09-30T00:00:00",
          "2017-12-31T00:00:00",
          "2018-03-31T00:00:00"
         ],
         "xaxis": "x",
         "y": [
          0,
          0,
          0,
          0,
          0,
          0,
          0,
          0,
          1,
          0,
          1,
          2,
          0,
          3,
          1,
          3,
          3,
          1,
          2,
          3,
          0,
          2,
          0,
          2,
          7,
          2,
          1,
          6,
          1,
          1,
          2,
          1,
          0
         ],
         "yaxis": "y"
        },
        {
         "hovertemplate": "variable=Notebook<br>time=%{x}<br># Item=%{y}<extra></extra>",
         "legendgroup": "Notebook",
         "line": {
          "color": "#ab63fa",
          "dash": "solid"
         },
         "marker": {
          "symbol": "circle"
         },
         "mode": "lines+markers",
         "name": "Notebook",
         "orientation": "v",
         "selectedpoints": [
          19
         ],
         "showlegend": true,
         "type": "scatter",
         "x": [
          "2010-03-31T00:00:00",
          "2010-06-30T00:00:00",
          "2010-09-30T00:00:00",
          "2010-12-31T00:00:00",
          "2011-03-31T00:00:00",
          "2011-06-30T00:00:00",
          "2011-09-30T00:00:00",
          "2011-12-31T00:00:00",
          "2012-03-31T00:00:00",
          "2012-06-30T00:00:00",
          "2012-09-30T00:00:00",
          "2012-12-31T00:00:00",
          "2013-03-31T00:00:00",
          "2013-06-30T00:00:00",
          "2013-09-30T00:00:00",
          "2013-12-31T00:00:00",
          "2014-03-31T00:00:00",
          "2014-06-30T00:00:00",
          "2014-09-30T00:00:00",
          "2014-12-31T00:00:00",
          "2015-03-31T00:00:00",
          "2015-06-30T00:00:00",
          "2015-09-30T00:00:00",
          "2015-12-31T00:00:00",
          "2016-03-31T00:00:00",
          "2016-06-30T00:00:00",
          "2016-09-30T00:00:00",
          "2016-12-31T00:00:00",
          "2017-03-31T00:00:00",
          "2017-06-30T00:00:00",
          "2017-09-30T00:00:00",
          "2017-12-31T00:00:00",
          "2018-03-31T00:00:00"
         ],
         "xaxis": "x",
         "y": [
          0,
          1,
          1,
          1,
          0,
          0,
          0,
          0,
          13,
          5,
          9,
          10,
          26,
          32,
          49,
          45,
          36,
          76,
          61,
          55,
          23,
          26,
          17,
          29,
          32,
          38,
          36,
          36,
          31,
          25,
          26,
          20,
          5
         ],
         "yaxis": "y"
        },
        {
         "hovertemplate": "variable=Outros<br>time=%{x}<br># Item=%{y}<extra></extra>",
         "legendgroup": "Outros",
         "line": {
          "color": "#FFA15A",
          "dash": "solid"
         },
         "marker": {
          "symbol": "circle"
         },
         "mode": "lines+markers",
         "name": "Outros",
         "orientation": "v",
         "selectedpoints": [],
         "showlegend": true,
         "type": "scatter",
         "x": [
          "2010-03-31T00:00:00",
          "2010-06-30T00:00:00",
          "2010-09-30T00:00:00",
          "2010-12-31T00:00:00",
          "2011-03-31T00:00:00",
          "2011-06-30T00:00:00",
          "2011-09-30T00:00:00",
          "2011-12-31T00:00:00",
          "2012-03-31T00:00:00",
          "2012-06-30T00:00:00",
          "2012-09-30T00:00:00",
          "2012-12-31T00:00:00",
          "2013-03-31T00:00:00",
          "2013-06-30T00:00:00",
          "2013-09-30T00:00:00",
          "2013-12-31T00:00:00",
          "2014-03-31T00:00:00",
          "2014-06-30T00:00:00",
          "2014-09-30T00:00:00",
          "2014-12-31T00:00:00",
          "2015-03-31T00:00:00",
          "2015-06-30T00:00:00",
          "2015-09-30T00:00:00",
          "2015-12-31T00:00:00",
          "2016-03-31T00:00:00",
          "2016-06-30T00:00:00",
          "2016-09-30T00:00:00",
          "2016-12-31T00:00:00",
          "2017-03-31T00:00:00",
          "2017-06-30T00:00:00",
          "2017-09-30T00:00:00",
          "2017-12-31T00:00:00",
          "2018-03-31T00:00:00"
         ],
         "xaxis": "x",
         "y": [
          1,
          0,
          3,
          2,
          0,
          3,
          0,
          3,
          44,
          22,
          40,
          42,
          129,
          158,
          324,
          286,
          291,
          466,
          531,
          414,
          221,
          130,
          183,
          210,
          221,
          236,
          249,
          279,
          200,
          204,
          158,
          121,
          72
         ],
         "yaxis": "y"
        },
        {
         "hovertemplate": "variable=Relógio<br>time=%{x}<br># Item=%{y}<extra></extra>",
         "legendgroup": "Relógio",
         "line": {
          "color": "#19d3f3",
          "dash": "solid"
         },
         "marker": {
          "symbol": "circle"
         },
         "mode": "lines+markers",
         "name": "Relógio",
         "orientation": "v",
         "selectedpoints": [
          19
         ],
         "showlegend": true,
         "type": "scatter",
         "x": [
          "2010-03-31T00:00:00",
          "2010-06-30T00:00:00",
          "2010-09-30T00:00:00",
          "2010-12-31T00:00:00",
          "2011-03-31T00:00:00",
          "2011-06-30T00:00:00",
          "2011-09-30T00:00:00",
          "2011-12-31T00:00:00",
          "2012-03-31T00:00:00",
          "2012-06-30T00:00:00",
          "2012-09-30T00:00:00",
          "2012-12-31T00:00:00",
          "2013-03-31T00:00:00",
          "2013-06-30T00:00:00",
          "2013-09-30T00:00:00",
          "2013-12-31T00:00:00",
          "2014-03-31T00:00:00",
          "2014-06-30T00:00:00",
          "2014-09-30T00:00:00",
          "2014-12-31T00:00:00",
          "2015-03-31T00:00:00",
          "2015-06-30T00:00:00",
          "2015-09-30T00:00:00",
          "2015-12-31T00:00:00",
          "2016-03-31T00:00:00",
          "2016-06-30T00:00:00",
          "2016-09-30T00:00:00",
          "2016-12-31T00:00:00",
          "2017-03-31T00:00:00",
          "2017-06-30T00:00:00",
          "2017-09-30T00:00:00",
          "2017-12-31T00:00:00",
          "2018-03-31T00:00:00"
         ],
         "xaxis": "x",
         "y": [
          1,
          1,
          1,
          1,
          0,
          1,
          0,
          1,
          9,
          8,
          22,
          21,
          48,
          50,
          80,
          78,
          85,
          108,
          118,
          104,
          72,
          42,
          50,
          52,
          55,
          49,
          52,
          70,
          44,
          39,
          44,
          30,
          14
         ],
         "yaxis": "y"
        },
        {
         "hovertemplate": "variable=Som<br>time=%{x}<br># Item=%{y}<extra></extra>",
         "legendgroup": "Som",
         "line": {
          "color": "#FF6692",
          "dash": "solid"
         },
         "marker": {
          "symbol": "circle"
         },
         "mode": "lines+markers",
         "name": "Som",
         "orientation": "v",
         "selectedpoints": [
          19
         ],
         "showlegend": true,
         "type": "scatter",
         "x": [
          "2010-03-31T00:00:00",
          "2010-06-30T00:00:00",
          "2010-09-30T00:00:00",
          "2010-12-31T00:00:00",
          "2011-03-31T00:00:00",
          "2011-06-30T00:00:00",
          "2011-09-30T00:00:00",
          "2011-12-31T00:00:00",
          "2012-03-31T00:00:00",
          "2012-06-30T00:00:00",
          "2012-09-30T00:00:00",
          "2012-12-31T00:00:00",
          "2013-03-31T00:00:00",
          "2013-06-30T00:00:00",
          "2013-09-30T00:00:00",
          "2013-12-31T00:00:00",
          "2014-03-31T00:00:00",
          "2014-06-30T00:00:00",
          "2014-09-30T00:00:00",
          "2014-12-31T00:00:00",
          "2015-03-31T00:00:00",
          "2015-06-30T00:00:00",
          "2015-09-30T00:00:00",
          "2015-12-31T00:00:00",
          "2016-03-31T00:00:00",
          "2016-06-30T00:00:00",
          "2016-09-30T00:00:00",
          "2016-12-31T00:00:00",
          "2017-03-31T00:00:00",
          "2017-06-30T00:00:00",
          "2017-09-30T00:00:00",
          "2017-12-31T00:00:00",
          "2018-03-31T00:00:00"
         ],
         "xaxis": "x",
         "y": [
          0,
          0,
          0,
          1,
          0,
          0,
          0,
          0,
          1,
          0,
          3,
          2,
          4,
          3,
          5,
          8,
          3,
          5,
          8,
          10,
          0,
          3,
          2,
          4,
          8,
          7,
          3,
          12,
          3,
          2,
          5,
          3,
          1
         ],
         "yaxis": "y"
        },
        {
         "hovertemplate": "variable=Tablet<br>time=%{x}<br># Item=%{y}<extra></extra>",
         "legendgroup": "Tablet",
         "line": {
          "color": "#B6E880",
          "dash": "solid"
         },
         "marker": {
          "symbol": "circle"
         },
         "mode": "lines+markers",
         "name": "Tablet",
         "orientation": "v",
         "selectedpoints": [
          19
         ],
         "showlegend": true,
         "type": "scatter",
         "x": [
          "2010-03-31T00:00:00",
          "2010-06-30T00:00:00",
          "2010-09-30T00:00:00",
          "2010-12-31T00:00:00",
          "2011-03-31T00:00:00",
          "2011-06-30T00:00:00",
          "2011-09-30T00:00:00",
          "2011-12-31T00:00:00",
          "2012-03-31T00:00:00",
          "2012-06-30T00:00:00",
          "2012-09-30T00:00:00",
          "2012-12-31T00:00:00",
          "2013-03-31T00:00:00",
          "2013-06-30T00:00:00",
          "2013-09-30T00:00:00",
          "2013-12-31T00:00:00",
          "2014-03-31T00:00:00",
          "2014-06-30T00:00:00",
          "2014-09-30T00:00:00",
          "2014-12-31T00:00:00",
          "2015-03-31T00:00:00",
          "2015-06-30T00:00:00",
          "2015-09-30T00:00:00",
          "2015-12-31T00:00:00",
          "2016-03-31T00:00:00",
          "2016-06-30T00:00:00",
          "2016-09-30T00:00:00",
          "2016-12-31T00:00:00",
          "2017-03-31T00:00:00",
          "2017-06-30T00:00:00",
          "2017-09-30T00:00:00",
          "2017-12-31T00:00:00",
          "2018-03-31T00:00:00"
         ],
         "xaxis": "x",
         "y": [
          0,
          0,
          0,
          1,
          0,
          0,
          0,
          0,
          1,
          2,
          7,
          3,
          10,
          17,
          34,
          24,
          33,
          48,
          58,
          27,
          12,
          12,
          12,
          18,
          22,
          22,
          17,
          15,
          13,
          15,
          10,
          6,
          4
         ],
         "yaxis": "y"
        },
        {
         "hovertemplate": "variable=Tv<br>time=%{x}<br># Item=%{y}<extra></extra>",
         "legendgroup": "Tv",
         "line": {
          "color": "#FF97FF",
          "dash": "solid"
         },
         "marker": {
          "symbol": "circle"
         },
         "mode": "lines+markers",
         "name": "Tv",
         "orientation": "v",
         "selectedpoints": [
          19
         ],
         "showlegend": true,
         "type": "scatter",
         "visible": true,
         "x": [
          "2010-03-31T00:00:00",
          "2010-06-30T00:00:00",
          "2010-09-30T00:00:00",
          "2010-12-31T00:00:00",
          "2011-03-31T00:00:00",
          "2011-06-30T00:00:00",
          "2011-09-30T00:00:00",
          "2011-12-31T00:00:00",
          "2012-03-31T00:00:00",
          "2012-06-30T00:00:00",
          "2012-09-30T00:00:00",
          "2012-12-31T00:00:00",
          "2013-03-31T00:00:00",
          "2013-06-30T00:00:00",
          "2013-09-30T00:00:00",
          "2013-12-31T00:00:00",
          "2014-03-31T00:00:00",
          "2014-06-30T00:00:00",
          "2014-09-30T00:00:00",
          "2014-12-31T00:00:00",
          "2015-03-31T00:00:00",
          "2015-06-30T00:00:00",
          "2015-09-30T00:00:00",
          "2015-12-31T00:00:00",
          "2016-03-31T00:00:00",
          "2016-06-30T00:00:00",
          "2016-09-30T00:00:00",
          "2016-12-31T00:00:00",
          "2017-03-31T00:00:00",
          "2017-06-30T00:00:00",
          "2017-09-30T00:00:00",
          "2017-12-31T00:00:00",
          "2018-03-31T00:00:00"
         ],
         "xaxis": "x",
         "y": [
          0,
          0,
          0,
          1,
          0,
          0,
          0,
          0,
          2,
          0,
          2,
          2,
          5,
          8,
          9,
          13,
          8,
          14,
          13,
          12,
          4,
          11,
          3,
          9,
          15,
          13,
          4,
          10,
          3,
          1,
          13,
          2,
          1
         ],
         "yaxis": "y"
        },
        {
         "hovertemplate": "variable=Total<br>time=%{x}<br># Item=%{y}<extra></extra>",
         "legendgroup": "Total",
         "line": {
          "color": "#FECB52",
          "dash": "solid"
         },
         "marker": {
          "symbol": "circle"
         },
         "mode": "lines+markers",
         "name": "Total",
         "orientation": "v",
         "showlegend": true,
         "type": "scatter",
         "visible": "legendonly",
         "x": [
          "2010-03-31T00:00:00",
          "2010-06-30T00:00:00",
          "2010-09-30T00:00:00",
          "2010-12-31T00:00:00",
          "2011-03-31T00:00:00",
          "2011-06-30T00:00:00",
          "2011-09-30T00:00:00",
          "2011-12-31T00:00:00",
          "2012-03-31T00:00:00",
          "2012-06-30T00:00:00",
          "2012-09-30T00:00:00",
          "2012-12-31T00:00:00",
          "2013-03-31T00:00:00",
          "2013-06-30T00:00:00",
          "2013-09-30T00:00:00",
          "2013-12-31T00:00:00",
          "2014-03-31T00:00:00",
          "2014-06-30T00:00:00",
          "2014-09-30T00:00:00",
          "2014-12-31T00:00:00",
          "2015-03-31T00:00:00",
          "2015-06-30T00:00:00",
          "2015-09-30T00:00:00",
          "2015-12-31T00:00:00",
          "2016-03-31T00:00:00",
          "2016-06-30T00:00:00",
          "2016-09-30T00:00:00",
          "2016-12-31T00:00:00",
          "2017-03-31T00:00:00",
          "2017-06-30T00:00:00",
          "2017-09-30T00:00:00",
          "2017-12-31T00:00:00",
          "2018-03-31T00:00:00"
         ],
         "xaxis": "x",
         "y": [
          14,
          7,
          11,
          19,
          1,
          6,
          1,
          22,
          293,
          227,
          319,
          304,
          862,
          1160,
          2237,
          1806,
          1841,
          3018,
          3228,
          2555,
          1384,
          1019,
          1209,
          1337,
          1622,
          1497,
          1654,
          1738,
          1287,
          1174,
          1040,
          736,
          495
         ],
         "yaxis": "y"
        }
       ],
       "layout": {
        "autosize": true,
        "dragmode": "zoom",
        "legend": {
         "title": {
          "text": "variable"
         },
         "tracegroupgap": 0
        },
        "template": {
         "data": {
          "bar": [
           {
            "error_x": {
             "color": "#2a3f5f"
            },
            "error_y": {
             "color": "#2a3f5f"
            },
            "marker": {
             "line": {
              "color": "#E5ECF6",
              "width": 0.5
             },
             "pattern": {
              "fillmode": "overlay",
              "size": 10,
              "solidity": 0.2
             }
            },
            "type": "bar"
           }
          ],
          "barpolar": [
           {
            "marker": {
             "line": {
              "color": "#E5ECF6",
              "width": 0.5
             },
             "pattern": {
              "fillmode": "overlay",
              "size": 10,
              "solidity": 0.2
             }
            },
            "type": "barpolar"
           }
          ],
          "carpet": [
           {
            "aaxis": {
             "endlinecolor": "#2a3f5f",
             "gridcolor": "white",
             "linecolor": "white",
             "minorgridcolor": "white",
             "startlinecolor": "#2a3f5f"
            },
            "baxis": {
             "endlinecolor": "#2a3f5f",
             "gridcolor": "white",
             "linecolor": "white",
             "minorgridcolor": "white",
             "startlinecolor": "#2a3f5f"
            },
            "type": "carpet"
           }
          ],
          "choropleth": [
           {
            "colorbar": {
             "outlinewidth": 0,
             "ticks": ""
            },
            "type": "choropleth"
           }
          ],
          "contour": [
           {
            "colorbar": {
             "outlinewidth": 0,
             "ticks": ""
            },
            "colorscale": [
             [
              0,
              "#0d0887"
             ],
             [
              0.1111111111111111,
              "#46039f"
             ],
             [
              0.2222222222222222,
              "#7201a8"
             ],
             [
              0.3333333333333333,
              "#9c179e"
             ],
             [
              0.4444444444444444,
              "#bd3786"
             ],
             [
              0.5555555555555556,
              "#d8576b"
             ],
             [
              0.6666666666666666,
              "#ed7953"
             ],
             [
              0.7777777777777778,
              "#fb9f3a"
             ],
             [
              0.8888888888888888,
              "#fdca26"
             ],
             [
              1,
              "#f0f921"
             ]
            ],
            "type": "contour"
           }
          ],
          "contourcarpet": [
           {
            "colorbar": {
             "outlinewidth": 0,
             "ticks": ""
            },
            "type": "contourcarpet"
           }
          ],
          "heatmap": [
           {
            "colorbar": {
             "outlinewidth": 0,
             "ticks": ""
            },
            "colorscale": [
             [
              0,
              "#0d0887"
             ],
             [
              0.1111111111111111,
              "#46039f"
             ],
             [
              0.2222222222222222,
              "#7201a8"
             ],
             [
              0.3333333333333333,
              "#9c179e"
             ],
             [
              0.4444444444444444,
              "#bd3786"
             ],
             [
              0.5555555555555556,
              "#d8576b"
             ],
             [
              0.6666666666666666,
              "#ed7953"
             ],
             [
              0.7777777777777778,
              "#fb9f3a"
             ],
             [
              0.8888888888888888,
              "#fdca26"
             ],
             [
              1,
              "#f0f921"
             ]
            ],
            "type": "heatmap"
           }
          ],
          "heatmapgl": [
           {
            "colorbar": {
             "outlinewidth": 0,
             "ticks": ""
            },
            "colorscale": [
             [
              0,
              "#0d0887"
             ],
             [
              0.1111111111111111,
              "#46039f"
             ],
             [
              0.2222222222222222,
              "#7201a8"
             ],
             [
              0.3333333333333333,
              "#9c179e"
             ],
             [
              0.4444444444444444,
              "#bd3786"
             ],
             [
              0.5555555555555556,
              "#d8576b"
             ],
             [
              0.6666666666666666,
              "#ed7953"
             ],
             [
              0.7777777777777778,
              "#fb9f3a"
             ],
             [
              0.8888888888888888,
              "#fdca26"
             ],
             [
              1,
              "#f0f921"
             ]
            ],
            "type": "heatmapgl"
           }
          ],
          "histogram": [
           {
            "marker": {
             "pattern": {
              "fillmode": "overlay",
              "size": 10,
              "solidity": 0.2
             }
            },
            "type": "histogram"
           }
          ],
          "histogram2d": [
           {
            "colorbar": {
             "outlinewidth": 0,
             "ticks": ""
            },
            "colorscale": [
             [
              0,
              "#0d0887"
             ],
             [
              0.1111111111111111,
              "#46039f"
             ],
             [
              0.2222222222222222,
              "#7201a8"
             ],
             [
              0.3333333333333333,
              "#9c179e"
             ],
             [
              0.4444444444444444,
              "#bd3786"
             ],
             [
              0.5555555555555556,
              "#d8576b"
             ],
             [
              0.6666666666666666,
              "#ed7953"
             ],
             [
              0.7777777777777778,
              "#fb9f3a"
             ],
             [
              0.8888888888888888,
              "#fdca26"
             ],
             [
              1,
              "#f0f921"
             ]
            ],
            "type": "histogram2d"
           }
          ],
          "histogram2dcontour": [
           {
            "colorbar": {
             "outlinewidth": 0,
             "ticks": ""
            },
            "colorscale": [
             [
              0,
              "#0d0887"
             ],
             [
              0.1111111111111111,
              "#46039f"
             ],
             [
              0.2222222222222222,
              "#7201a8"
             ],
             [
              0.3333333333333333,
              "#9c179e"
             ],
             [
              0.4444444444444444,
              "#bd3786"
             ],
             [
              0.5555555555555556,
              "#d8576b"
             ],
             [
              0.6666666666666666,
              "#ed7953"
             ],
             [
              0.7777777777777778,
              "#fb9f3a"
             ],
             [
              0.8888888888888888,
              "#fdca26"
             ],
             [
              1,
              "#f0f921"
             ]
            ],
            "type": "histogram2dcontour"
           }
          ],
          "mesh3d": [
           {
            "colorbar": {
             "outlinewidth": 0,
             "ticks": ""
            },
            "type": "mesh3d"
           }
          ],
          "parcoords": [
           {
            "line": {
             "colorbar": {
              "outlinewidth": 0,
              "ticks": ""
             }
            },
            "type": "parcoords"
           }
          ],
          "pie": [
           {
            "automargin": true,
            "type": "pie"
           }
          ],
          "scatter": [
           {
            "fillpattern": {
             "fillmode": "overlay",
             "size": 10,
             "solidity": 0.2
            },
            "type": "scatter"
           }
          ],
          "scatter3d": [
           {
            "line": {
             "colorbar": {
              "outlinewidth": 0,
              "ticks": ""
             }
            },
            "marker": {
             "colorbar": {
              "outlinewidth": 0,
              "ticks": ""
             }
            },
            "type": "scatter3d"
           }
          ],
          "scattercarpet": [
           {
            "marker": {
             "colorbar": {
              "outlinewidth": 0,
              "ticks": ""
             }
            },
            "type": "scattercarpet"
           }
          ],
          "scattergeo": [
           {
            "marker": {
             "colorbar": {
              "outlinewidth": 0,
              "ticks": ""
             }
            },
            "type": "scattergeo"
           }
          ],
          "scattergl": [
           {
            "marker": {
             "colorbar": {
              "outlinewidth": 0,
              "ticks": ""
             }
            },
            "type": "scattergl"
           }
          ],
          "scattermapbox": [
           {
            "marker": {
             "colorbar": {
              "outlinewidth": 0,
              "ticks": ""
             }
            },
            "type": "scattermapbox"
           }
          ],
          "scatterpolar": [
           {
            "marker": {
             "colorbar": {
              "outlinewidth": 0,
              "ticks": ""
             }
            },
            "type": "scatterpolar"
           }
          ],
          "scatterpolargl": [
           {
            "marker": {
             "colorbar": {
              "outlinewidth": 0,
              "ticks": ""
             }
            },
            "type": "scatterpolargl"
           }
          ],
          "scatterternary": [
           {
            "marker": {
             "colorbar": {
              "outlinewidth": 0,
              "ticks": ""
             }
            },
            "type": "scatterternary"
           }
          ],
          "surface": [
           {
            "colorbar": {
             "outlinewidth": 0,
             "ticks": ""
            },
            "colorscale": [
             [
              0,
              "#0d0887"
             ],
             [
              0.1111111111111111,
              "#46039f"
             ],
             [
              0.2222222222222222,
              "#7201a8"
             ],
             [
              0.3333333333333333,
              "#9c179e"
             ],
             [
              0.4444444444444444,
              "#bd3786"
             ],
             [
              0.5555555555555556,
              "#d8576b"
             ],
             [
              0.6666666666666666,
              "#ed7953"
             ],
             [
              0.7777777777777778,
              "#fb9f3a"
             ],
             [
              0.8888888888888888,
              "#fdca26"
             ],
             [
              1,
              "#f0f921"
             ]
            ],
            "type": "surface"
           }
          ],
          "table": [
           {
            "cells": {
             "fill": {
              "color": "#EBF0F8"
             },
             "line": {
              "color": "white"
             }
            },
            "header": {
             "fill": {
              "color": "#C8D4E3"
             },
             "line": {
              "color": "white"
             }
            },
            "type": "table"
           }
          ]
         },
         "layout": {
          "annotationdefaults": {
           "arrowcolor": "#2a3f5f",
           "arrowhead": 0,
           "arrowwidth": 1
          },
          "autotypenumbers": "strict",
          "coloraxis": {
           "colorbar": {
            "outlinewidth": 0,
            "ticks": ""
           }
          },
          "colorscale": {
           "diverging": [
            [
             0,
             "#8e0152"
            ],
            [
             0.1,
             "#c51b7d"
            ],
            [
             0.2,
             "#de77ae"
            ],
            [
             0.3,
             "#f1b6da"
            ],
            [
             0.4,
             "#fde0ef"
            ],
            [
             0.5,
             "#f7f7f7"
            ],
            [
             0.6,
             "#e6f5d0"
            ],
            [
             0.7,
             "#b8e186"
            ],
            [
             0.8,
             "#7fbc41"
            ],
            [
             0.9,
             "#4d9221"
            ],
            [
             1,
             "#276419"
            ]
           ],
           "sequential": [
            [
             0,
             "#0d0887"
            ],
            [
             0.1111111111111111,
             "#46039f"
            ],
            [
             0.2222222222222222,
             "#7201a8"
            ],
            [
             0.3333333333333333,
             "#9c179e"
            ],
            [
             0.4444444444444444,
             "#bd3786"
            ],
            [
             0.5555555555555556,
             "#d8576b"
            ],
            [
             0.6666666666666666,
             "#ed7953"
            ],
            [
             0.7777777777777778,
             "#fb9f3a"
            ],
            [
             0.8888888888888888,
             "#fdca26"
            ],
            [
             1,
             "#f0f921"
            ]
           ],
           "sequentialminus": [
            [
             0,
             "#0d0887"
            ],
            [
             0.1111111111111111,
             "#46039f"
            ],
            [
             0.2222222222222222,
             "#7201a8"
            ],
            [
             0.3333333333333333,
             "#9c179e"
            ],
            [
             0.4444444444444444,
             "#bd3786"
            ],
            [
             0.5555555555555556,
             "#d8576b"
            ],
            [
             0.6666666666666666,
             "#ed7953"
            ],
            [
             0.7777777777777778,
             "#fb9f3a"
            ],
            [
             0.8888888888888888,
             "#fdca26"
            ],
            [
             1,
             "#f0f921"
            ]
           ]
          },
          "colorway": [
           "#636efa",
           "#EF553B",
           "#00cc96",
           "#ab63fa",
           "#FFA15A",
           "#19d3f3",
           "#FF6692",
           "#B6E880",
           "#FF97FF",
           "#FECB52"
          ],
          "font": {
           "color": "#2a3f5f"
          },
          "geo": {
           "bgcolor": "white",
           "lakecolor": "white",
           "landcolor": "#E5ECF6",
           "showlakes": true,
           "showland": true,
           "subunitcolor": "white"
          },
          "hoverlabel": {
           "align": "left"
          },
          "hovermode": "closest",
          "mapbox": {
           "style": "light"
          },
          "paper_bgcolor": "white",
          "plot_bgcolor": "#E5ECF6",
          "polar": {
           "angularaxis": {
            "gridcolor": "white",
            "linecolor": "white",
            "ticks": ""
           },
           "bgcolor": "#E5ECF6",
           "radialaxis": {
            "gridcolor": "white",
            "linecolor": "white",
            "ticks": ""
           }
          },
          "scene": {
           "xaxis": {
            "backgroundcolor": "#E5ECF6",
            "gridcolor": "white",
            "gridwidth": 2,
            "linecolor": "white",
            "showbackground": true,
            "ticks": "",
            "zerolinecolor": "white"
           },
           "yaxis": {
            "backgroundcolor": "#E5ECF6",
            "gridcolor": "white",
            "gridwidth": 2,
            "linecolor": "white",
            "showbackground": true,
            "ticks": "",
            "zerolinecolor": "white"
           },
           "zaxis": {
            "backgroundcolor": "#E5ECF6",
            "gridcolor": "white",
            "gridwidth": 2,
            "linecolor": "white",
            "showbackground": true,
            "ticks": "",
            "zerolinecolor": "white"
           }
          },
          "shapedefaults": {
           "line": {
            "color": "#2a3f5f"
           }
          },
          "ternary": {
           "aaxis": {
            "gridcolor": "white",
            "linecolor": "white",
            "ticks": ""
           },
           "baxis": {
            "gridcolor": "white",
            "linecolor": "white",
            "ticks": ""
           },
           "bgcolor": "#E5ECF6",
           "caxis": {
            "gridcolor": "white",
            "linecolor": "white",
            "ticks": ""
           }
          },
          "title": {
           "x": 0.05
          },
          "xaxis": {
           "automargin": true,
           "gridcolor": "white",
           "linecolor": "white",
           "ticks": "",
           "title": {
            "standoff": 15
           },
           "zerolinecolor": "white",
           "zerolinewidth": 2
          },
          "yaxis": {
           "automargin": true,
           "gridcolor": "white",
           "linecolor": "white",
           "ticks": "",
           "title": {
            "standoff": 15
           },
           "zerolinecolor": "white",
           "zerolinewidth": 2
          }
         }
        },
        "title": {
         "text": "FURTOS NO TRIMESTRE POR ITEM"
        },
        "xaxis": {
         "anchor": "y",
         "autorange": true,
         "domain": [
          0,
          1
         ],
         "range": [
          "2009-10-08 06:38:05.4898",
          "2018-09-20 17:21:54.5102"
         ],
         "title": {
          "text": "time"
         },
         "type": "date"
        },
        "yaxis": {
         "anchor": "x",
         "autorange": true,
         "domain": [
          0,
          1
         ],
         "range": [
          -66.76213592233009,
          875.7621359223301
         ],
         "title": {
          "text": "# Item"
         },
         "type": "linear"
        }
       }
      },
      "image/png": "[encoded data removed]",
      "text/html": [
       "<div>                            <div id=\"d2e6afeb-886d-4afb-82b2-34f68717c520\" class=\"plotly-graph-div\" style=\"height:525px; width:100%;\"></div>            <script type=\"text/javascript\">                require([\"plotly\"], function(Plotly) {                    window.PLOTLYENV=window.PLOTLYENV || {};                                    if (document.getElementById(\"d2e6afeb-886d-4afb-82b2-34f68717c520\")) {                    Plotly.newPlot(                        \"d2e6afeb-886d-4afb-82b2-34f68717c520\",                        [{\"hovertemplate\":\"variable=Bicicleta<br>time=%{x}<br># Item=%{y}<extra></extra>\",\"legendgroup\":\"Bicicleta\",\"line\":{\"color\":\"#636efa\",\"dash\":\"solid\"},\"marker\":{\"symbol\":\"circle\"},\"mode\":\"lines+markers\",\"name\":\"Bicicleta\",\"orientation\":\"v\",\"showlegend\":true,\"x\":[\"2010-03-31T00:00:00\",\"2010-06-30T00:00:00\",\"2010-09-30T00:00:00\",\"2010-12-31T00:00:00\",\"2011-03-31T00:00:00\",\"2011-06-30T00:00:00\",\"2011-09-30T00:00:00\",\"2011-12-31T00:00:00\",\"2012-03-31T00:00:00\",\"2012-06-30T00:00:00\",\"2012-09-30T00:00:00\",\"2012-12-31T00:00:00\",\"2013-03-31T00:00:00\",\"2013-06-30T00:00:00\",\"2013-09-30T00:00:00\",\"2013-12-31T00:00:00\",\"2014-03-31T00:00:00\",\"2014-06-30T00:00:00\",\"2014-09-30T00:00:00\",\"2014-12-31T00:00:00\",\"2015-03-31T00:00:00\",\"2015-06-30T00:00:00\",\"2015-09-30T00:00:00\",\"2015-12-31T00:00:00\",\"2016-03-31T00:00:00\",\"2016-06-30T00:00:00\",\"2016-09-30T00:00:00\",\"2016-12-31T00:00:00\",\"2017-03-31T00:00:00\",\"2017-06-30T00:00:00\",\"2017-09-30T00:00:00\",\"2017-12-31T00:00:00\",\"2018-03-31T00:00:00\"],\"xaxis\":\"x\",\"y\":[0,0,0,0,0,0,0,0,1,1,1,3,2,3,3,13,11,8,15,17,8,17,12,15,13,21,16,20,18,14,13,3,8],\"yaxis\":\"y\",\"type\":\"scatter\"},{\"hovertemplate\":\"variable=Bolsa ou Mochila<br>time=%{x}<br># Item=%{y}<extra></extra>\",\"legendgroup\":\"Bolsa ou Mochila\",\"line\":{\"color\":\"#EF553B\",\"dash\":\"solid\"},\"marker\":{\"symbol\":\"circle\"},\"mode\":\"lines+markers\",\"name\":\"Bolsa ou Mochila\",\"orientation\":\"v\",\"showlegend\":true,\"x\":[\"2010-03-31T00:00:00\",\"2010-06-30T00:00:00\",\"2010-09-30T00:00:00\",\"2010-12-31T00:00:00\",\"2011-03-31T00:00:00\",\"2011-06-30T00:00:00\",\"2011-09-30T00:00:00\",\"2011-12-31T00:00:00\",\"2012-03-31T00:00:00\",\"2012-06-30T00:00:00\",\"2012-09-30T00:00:00\",\"2012-12-31T00:00:00\",\"2013-03-31T00:00:00\",\"2013-06-30T00:00:00\",\"2013-09-30T00:00:00\",\"2013-12-31T00:00:00\",\"2014-03-31T00:00:00\",\"2014-06-30T00:00:00\",\"2014-09-30T00:00:00\",\"2014-12-31T00:00:00\",\"2015-03-31T00:00:00\",\"2015-06-30T00:00:00\",\"2015-09-30T00:00:00\",\"2015-12-31T00:00:00\",\"2016-03-31T00:00:00\",\"2016-06-30T00:00:00\",\"2016-09-30T00:00:00\",\"2016-12-31T00:00:00\",\"2017-03-31T00:00:00\",\"2017-06-30T00:00:00\",\"2017-09-30T00:00:00\",\"2017-12-31T00:00:00\",\"2018-03-31T00:00:00\"],\"xaxis\":\"x\",\"y\":[2,1,1,1,0,0,1,3,30,24,39,31,97,127,256,199,206,345,377,275,158,109,121,143,165,147,164,175,117,102,89,71,55],\"yaxis\":\"y\",\"type\":\"scatter\"},{\"hovertemplate\":\"variable=Carteira<br>time=%{x}<br># Item=%{y}<extra></extra>\",\"legendgroup\":\"Carteira\",\"line\":{\"color\":\"#00cc96\",\"dash\":\"solid\"},\"marker\":{\"symbol\":\"circle\"},\"mode\":\"lines+markers\",\"name\":\"Carteira\",\"orientation\":\"v\",\"showlegend\":true,\"x\":[\"2010-03-31T00:00:00\",\"2010-06-30T00:00:00\",\"2010-09-30T00:00:00\",\"2010-12-31T00:00:00\",\"2011-03-31T00:00:00\",\"2011-06-30T00:00:00\",\"2011-09-30T00:00:00\",\"2011-12-31T00:00:00\",\"2012-03-31T00:00:00\",\"2012-06-30T00:00:00\",\"2012-09-30T00:00:00\",\"2012-12-31T00:00:00\",\"2013-03-31T00:00:00\",\"2013-06-30T00:00:00\",\"2013-09-30T00:00:00\",\"2013-12-31T00:00:00\",\"2014-03-31T00:00:00\",\"2014-06-30T00:00:00\",\"2014-09-30T00:00:00\",\"2014-12-31T00:00:00\",\"2015-03-31T00:00:00\",\"2015-06-30T00:00:00\",\"2015-09-30T00:00:00\",\"2015-12-31T00:00:00\",\"2016-03-31T00:00:00\",\"2016-06-30T00:00:00\",\"2016-09-30T00:00:00\",\"2016-12-31T00:00:00\",\"2017-03-31T00:00:00\",\"2017-06-30T00:00:00\",\"2017-09-30T00:00:00\",\"2017-12-31T00:00:00\",\"2018-03-31T00:00:00\"],\"xaxis\":\"x\",\"y\":[3,1,1,2,0,0,0,3,41,36,44,34,120,156,289,248,259,424,427,339,177,115,140,145,187,163,198,178,151,128,105,79,50],\"yaxis\":\"y\",\"type\":\"scatter\"},{\"hovertemplate\":\"variable=Cart\\u00e3o de Cr\\u00e9dito<br>time=%{x}<br># Item=%{y}<extra></extra>\",\"legendgroup\":\"Cart\\u00e3o de Cr\\u00e9dito\",\"line\":{\"color\":\"#ab63fa\",\"dash\":\"solid\"},\"marker\":{\"symbol\":\"circle\"},\"mode\":\"lines+markers\",\"name\":\"Cart\\u00e3o de Cr\\u00e9dito\",\"orientation\":\"v\",\"showlegend\":true,\"x\":[\"2010-03-31T00:00:00\",\"2010-06-30T00:00:00\",\"2010-09-30T00:00:00\",\"2010-12-31T00:00:00\",\"2011-03-31T00:00:00\",\"2011-06-30T00:00:00\",\"2011-09-30T00:00:00\",\"2011-12-31T00:00:00\",\"2012-03-31T00:00:00\",\"2012-06-30T00:00:00\",\"2012-09-30T00:00:00\",\"2012-12-31T00:00:00\",\"2013-03-31T00:00:00\",\"2013-06-30T00:00:00\",\"2013-09-30T00:00:00\",\"2013-12-31T00:00:00\",\"2014-03-31T00:00:00\",\"2014-06-30T00:00:00\",\"2014-09-30T00:00:00\",\"2014-12-31T00:00:00\",\"2015-03-31T00:00:00\",\"2015-06-30T00:00:00\",\"2015-09-30T00:00:00\",\"2015-12-31T00:00:00\",\"2016-03-31T00:00:00\",\"2016-06-30T00:00:00\",\"2016-09-30T00:00:00\",\"2016-12-31T00:00:00\",\"2017-03-31T00:00:00\",\"2017-06-30T00:00:00\",\"2017-09-30T00:00:00\",\"2017-12-31T00:00:00\",\"2018-03-31T00:00:00\"],\"xaxis\":\"x\",\"y\":[2,0,0,1,0,0,0,2,28,24,28,29,76,105,196,168,162,245,295,208,113,72,96,104,121,101,127,118,99,95,75,53,33],\"yaxis\":\"y\",\"type\":\"scatter\"},{\"hovertemplate\":\"variable=Celular<br>time=%{x}<br># Item=%{y}<extra></extra>\",\"legendgroup\":\"Celular\",\"line\":{\"color\":\"#FFA15A\",\"dash\":\"solid\"},\"marker\":{\"symbol\":\"circle\"},\"mode\":\"lines+markers\",\"name\":\"Celular\",\"orientation\":\"v\",\"showlegend\":true,\"x\":[\"2010-03-31T00:00:00\",\"2010-06-30T00:00:00\",\"2010-09-30T00:00:00\",\"2010-12-31T00:00:00\",\"2011-03-31T00:00:00\",\"2011-06-30T00:00:00\",\"2011-09-30T00:00:00\",\"2011-12-31T00:00:00\",\"2012-03-31T00:00:00\",\"2012-06-30T00:00:00\",\"2012-09-30T00:00:00\",\"2012-12-31T00:00:00\",\"2013-03-31T00:00:00\",\"2013-06-30T00:00:00\",\"2013-09-30T00:00:00\",\"2013-12-31T00:00:00\",\"2014-03-31T00:00:00\",\"2014-06-30T00:00:00\",\"2014-09-30T00:00:00\",\"2014-12-31T00:00:00\",\"2015-03-31T00:00:00\",\"2015-06-30T00:00:00\",\"2015-09-30T00:00:00\",\"2015-12-31T00:00:00\",\"2016-03-31T00:00:00\",\"2016-06-30T00:00:00\",\"2016-09-30T00:00:00\",\"2016-12-31T00:00:00\",\"2017-03-31T00:00:00\",\"2017-06-30T00:00:00\",\"2017-09-30T00:00:00\",\"2017-12-31T00:00:00\",\"2018-03-31T00:00:00\"],\"xaxis\":\"x\",\"y\":[2,2,1,3,1,0,0,4,66,64,64,72,204,315,605,413,449,776,809,675,369,233,288,286,384,349,403,415,309,258,258,161,139],\"yaxis\":\"y\",\"type\":\"scatter\"},{\"hovertemplate\":\"variable=Computador<br>time=%{x}<br># Item=%{y}<extra></extra>\",\"legendgroup\":\"Computador\",\"line\":{\"color\":\"#19d3f3\",\"dash\":\"solid\"},\"marker\":{\"symbol\":\"circle\"},\"mode\":\"lines+markers\",\"name\":\"Computador\",\"orientation\":\"v\",\"showlegend\":true,\"x\":[\"2010-03-31T00:00:00\",\"2010-06-30T00:00:00\",\"2010-09-30T00:00:00\",\"2010-12-31T00:00:00\",\"2011-03-31T00:00:00\",\"2011-06-30T00:00:00\",\"2011-09-30T00:00:00\",\"2011-12-31T00:00:00\",\"2012-03-31T00:00:00\",\"2012-06-30T00:00:00\",\"2012-09-30T00:00:00\",\"2012-12-31T00:00:00\",\"2013-03-31T00:00:00\",\"2013-06-30T00:00:00\",\"2013-09-30T00:00:00\",\"2013-12-31T00:00:00\",\"2014-03-31T00:00:00\",\"2014-06-30T00:00:00\",\"2014-09-30T00:00:00\",\"2014-12-31T00:00:00\",\"2015-03-31T00:00:00\",\"2015-06-30T00:00:00\",\"2015-09-30T00:00:00\",\"2015-12-31T00:00:00\",\"2016-03-31T00:00:00\",\"2016-06-30T00:00:00\",\"2016-09-30T00:00:00\",\"2016-12-31T00:00:00\",\"2017-03-31T00:00:00\",\"2017-06-30T00:00:00\",\"2017-09-30T00:00:00\",\"2017-12-31T00:00:00\",\"2018-03-31T00:00:00\"],\"xaxis\":\"x\",\"y\":[0,0,0,0,0,0,0,0,1,0,2,2,1,4,5,12,4,6,10,11,2,6,3,5,6,8,3,4,5,1,8,1,2],\"yaxis\":\"y\",\"type\":\"scatter\"},{\"hovertemplate\":\"variable=DVD<br>time=%{x}<br># Item=%{y}<extra></extra>\",\"legendgroup\":\"DVD\",\"line\":{\"color\":\"#FF6692\",\"dash\":\"solid\"},\"marker\":{\"symbol\":\"circle\"},\"mode\":\"lines+markers\",\"name\":\"DVD\",\"orientation\":\"v\",\"showlegend\":true,\"x\":[\"2010-03-31T00:00:00\",\"2010-06-30T00:00:00\",\"2010-09-30T00:00:00\",\"2010-12-31T00:00:00\",\"2011-03-31T00:00:00\",\"2011-06-30T00:00:00\",\"2011-09-30T00:00:00\",\"2011-12-31T00:00:00\",\"2012-03-31T00:00:00\",\"2012-06-30T00:00:00\",\"2012-09-30T00:00:00\",\"2012-12-31T00:00:00\",\"2013-03-31T00:00:00\",\"2013-06-30T00:00:00\",\"2013-09-30T00:00:00\",\"2013-12-31T00:00:00\",\"2014-03-31T00:00:00\",\"2014-06-30T00:00:00\",\"2014-09-30T00:00:00\",\"2014-12-31T00:00:00\",\"2015-03-31T00:00:00\",\"2015-06-30T00:00:00\",\"2015-09-30T00:00:00\",\"2015-12-31T00:00:00\",\"2016-03-31T00:00:00\",\"2016-06-30T00:00:00\",\"2016-09-30T00:00:00\",\"2016-12-31T00:00:00\",\"2017-03-31T00:00:00\",\"2017-06-30T00:00:00\",\"2017-09-30T00:00:00\",\"2017-12-31T00:00:00\",\"2018-03-31T00:00:00\"],\"xaxis\":\"x\",\"y\":[0,0,0,1,0,1,0,0,1,0,3,2,4,3,4,8,3,5,5,6,0,5,1,5,10,5,3,8,1,1,8,1,0],\"yaxis\":\"y\",\"type\":\"scatter\"},{\"hovertemplate\":\"variable=Dinheiro<br>time=%{x}<br># Item=%{y}<extra></extra>\",\"legendgroup\":\"Dinheiro\",\"line\":{\"color\":\"#B6E880\",\"dash\":\"solid\"},\"marker\":{\"symbol\":\"circle\"},\"mode\":\"lines+markers\",\"name\":\"Dinheiro\",\"orientation\":\"v\",\"showlegend\":true,\"x\":[\"2010-03-31T00:00:00\",\"2010-06-30T00:00:00\",\"2010-09-30T00:00:00\",\"2010-12-31T00:00:00\",\"2011-03-31T00:00:00\",\"2011-06-30T00:00:00\",\"2011-09-30T00:00:00\",\"2011-12-31T00:00:00\",\"2012-03-31T00:00:00\",\"2012-06-30T00:00:00\",\"2012-09-30T00:00:00\",\"2012-12-31T00:00:00\",\"2013-03-31T00:00:00\",\"2013-06-30T00:00:00\",\"2013-09-30T00:00:00\",\"2013-12-31T00:00:00\",\"2014-03-31T00:00:00\",\"2014-06-30T00:00:00\",\"2014-09-30T00:00:00\",\"2014-12-31T00:00:00\",\"2015-03-31T00:00:00\",\"2015-06-30T00:00:00\",\"2015-09-30T00:00:00\",\"2015-12-31T00:00:00\",\"2016-03-31T00:00:00\",\"2016-06-30T00:00:00\",\"2016-09-30T00:00:00\",\"2016-12-31T00:00:00\",\"2017-03-31T00:00:00\",\"2017-06-30T00:00:00\",\"2017-09-30T00:00:00\",\"2017-12-31T00:00:00\",\"2018-03-31T00:00:00\"],\"xaxis\":\"x\",\"y\":[1,1,1,2,0,1,0,3,6,3,5,4,3,4,6,6,8,16,8,20,25,94,129,146,176,164,188,186,131,132,114,90,57],\"yaxis\":\"y\",\"type\":\"scatter\"},{\"hovertemplate\":\"variable=Documentos<br>time=%{x}<br># Item=%{y}<extra></extra>\",\"legendgroup\":\"Documentos\",\"line\":{\"color\":\"#FF97FF\",\"dash\":\"solid\"},\"marker\":{\"symbol\":\"circle\"},\"mode\":\"lines+markers\",\"name\":\"Documentos\",\"orientation\":\"v\",\"showlegend\":true,\"x\":[\"2010-03-31T00:00:00\",\"2010-06-30T00:00:00\",\"2010-09-30T00:00:00\",\"2010-12-31T00:00:00\",\"2011-03-31T00:00:00\",\"2011-06-30T00:00:00\",\"2011-09-30T00:00:00\",\"2011-12-31T00:00:00\",\"2012-03-31T00:00:00\",\"2012-06-30T00:00:00\",\"2012-09-30T00:00:00\",\"2012-12-31T00:00:00\",\"2013-03-31T00:00:00\",\"2013-06-30T00:00:00\",\"2013-09-30T00:00:00\",\"2013-12-31T00:00:00\",\"2014-03-31T00:00:00\",\"2014-06-30T00:00:00\",\"2014-09-30T00:00:00\",\"2014-12-31T00:00:00\",\"2015-03-31T00:00:00\",\"2015-06-30T00:00:00\",\"2015-09-30T00:00:00\",\"2015-12-31T00:00:00\",\"2016-03-31T00:00:00\",\"2016-06-30T00:00:00\",\"2016-09-30T00:00:00\",\"2016-12-31T00:00:00\",\"2017-03-31T00:00:00\",\"2017-06-30T00:00:00\",\"2017-09-30T00:00:00\",\"2017-12-31T00:00:00\",\"2018-03-31T00:00:00\"],\"xaxis\":\"x\",\"y\":[2,0,1,0,0,0,0,2,34,27,35,32,96,124,251,211,218,364,366,288,151,97,117,136,158,146,164,159,136,131,89,75,50],\"yaxis\":\"y\",\"type\":\"scatter\"},{\"hovertemplate\":\"variable=Equipamento de Som<br>time=%{x}<br># Item=%{y}<extra></extra>\",\"legendgroup\":\"Equipamento de Som\",\"line\":{\"color\":\"#FECB52\",\"dash\":\"solid\"},\"marker\":{\"symbol\":\"circle\"},\"mode\":\"lines+markers\",\"name\":\"Equipamento de Som\",\"orientation\":\"v\",\"showlegend\":true,\"x\":[\"2010-03-31T00:00:00\",\"2010-06-30T00:00:00\",\"2010-09-30T00:00:00\",\"2010-12-31T00:00:00\",\"2011-03-31T00:00:00\",\"2011-06-30T00:00:00\",\"2011-09-30T00:00:00\",\"2011-12-31T00:00:00\",\"2012-03-31T00:00:00\",\"2012-06-30T00:00:00\",\"2012-09-30T00:00:00\",\"2012-12-31T00:00:00\",\"2013-03-31T00:00:00\",\"2013-06-30T00:00:00\",\"2013-09-30T00:00:00\",\"2013-12-31T00:00:00\",\"2014-03-31T00:00:00\",\"2014-06-30T00:00:00\",\"2014-09-30T00:00:00\",\"2014-12-31T00:00:00\",\"2015-03-31T00:00:00\",\"2015-06-30T00:00:00\",\"2015-09-30T00:00:00\",\"2015-12-31T00:00:00\",\"2016-03-31T00:00:00\",\"2016-06-30T00:00:00\",\"2016-09-30T00:00:00\",\"2016-12-31T00:00:00\",\"2017-03-31T00:00:00\",\"2017-06-30T00:00:00\",\"2017-09-30T00:00:00\",\"2017-12-31T00:00:00\",\"2018-03-31T00:00:00\"],\"xaxis\":\"x\",\"y\":[0,0,1,1,0,0,0,0,0,1,1,4,4,10,33,9,14,28,22,20,6,12,8,4,13,6,12,11,4,4,7,4,0],\"yaxis\":\"y\",\"type\":\"scatter\"},{\"hovertemplate\":\"variable=Estepe<br>time=%{x}<br># Item=%{y}<extra></extra>\",\"legendgroup\":\"Estepe\",\"line\":{\"color\":\"#636efa\",\"dash\":\"solid\"},\"marker\":{\"symbol\":\"circle\"},\"mode\":\"lines+markers\",\"name\":\"Estepe\",\"orientation\":\"v\",\"showlegend\":true,\"x\":[\"2010-03-31T00:00:00\",\"2010-06-30T00:00:00\",\"2010-09-30T00:00:00\",\"2010-12-31T00:00:00\",\"2011-03-31T00:00:00\",\"2011-06-30T00:00:00\",\"2011-09-30T00:00:00\",\"2011-12-31T00:00:00\",\"2012-03-31T00:00:00\",\"2012-06-30T00:00:00\",\"2012-09-30T00:00:00\",\"2012-12-31T00:00:00\",\"2013-03-31T00:00:00\",\"2013-06-30T00:00:00\",\"2013-09-30T00:00:00\",\"2013-12-31T00:00:00\",\"2014-03-31T00:00:00\",\"2014-06-30T00:00:00\",\"2014-09-30T00:00:00\",\"2014-12-31T00:00:00\",\"2015-03-31T00:00:00\",\"2015-06-30T00:00:00\",\"2015-09-30T00:00:00\",\"2015-12-31T00:00:00\",\"2016-03-31T00:00:00\",\"2016-06-30T00:00:00\",\"2016-09-30T00:00:00\",\"2016-12-31T00:00:00\",\"2017-03-31T00:00:00\",\"2017-06-30T00:00:00\",\"2017-09-30T00:00:00\",\"2017-12-31T00:00:00\",\"2018-03-31T00:00:00\"],\"xaxis\":\"x\",\"y\":[0,0,0,0,0,0,0,0,2,1,0,0,2,11,23,17,10,19,56,29,22,16,16,9,15,6,8,27,8,8,8,9,2],\"yaxis\":\"y\",\"type\":\"scatter\"},{\"hovertemplate\":\"variable=MP4 ou Ipod<br>time=%{x}<br># Item=%{y}<extra></extra>\",\"legendgroup\":\"MP4 ou Ipod\",\"line\":{\"color\":\"#EF553B\",\"dash\":\"solid\"},\"marker\":{\"symbol\":\"circle\"},\"mode\":\"lines+markers\",\"name\":\"MP4 ou Ipod\",\"orientation\":\"v\",\"showlegend\":true,\"x\":[\"2010-03-31T00:00:00\",\"2010-06-30T00:00:00\",\"2010-09-30T00:00:00\",\"2010-12-31T00:00:00\",\"2011-03-31T00:00:00\",\"2011-06-30T00:00:00\",\"2011-09-30T00:00:00\",\"2011-12-31T00:00:00\",\"2012-03-31T00:00:00\",\"2012-06-30T00:00:00\",\"2012-09-30T00:00:00\",\"2012-12-31T00:00:00\",\"2013-03-31T00:00:00\",\"2013-06-30T00:00:00\",\"2013-09-30T00:00:00\",\"2013-12-31T00:00:00\",\"2014-03-31T00:00:00\",\"2014-06-30T00:00:00\",\"2014-09-30T00:00:00\",\"2014-12-31T00:00:00\",\"2015-03-31T00:00:00\",\"2015-06-30T00:00:00\",\"2015-09-30T00:00:00\",\"2015-12-31T00:00:00\",\"2016-03-31T00:00:00\",\"2016-06-30T00:00:00\",\"2016-09-30T00:00:00\",\"2016-12-31T00:00:00\",\"2017-03-31T00:00:00\",\"2017-06-30T00:00:00\",\"2017-09-30T00:00:00\",\"2017-12-31T00:00:00\",\"2018-03-31T00:00:00\"],\"xaxis\":\"x\",\"y\":[0,0,0,1,0,0,0,1,12,9,13,9,31,27,64,45,38,64,47,42,21,17,11,15,14,14,6,9,13,13,8,6,2],\"yaxis\":\"y\",\"type\":\"scatter\"},{\"hovertemplate\":\"variable=M\\u00f3veis<br>time=%{x}<br># Item=%{y}<extra></extra>\",\"legendgroup\":\"M\\u00f3veis\",\"line\":{\"color\":\"#00cc96\",\"dash\":\"solid\"},\"marker\":{\"symbol\":\"circle\"},\"mode\":\"lines+markers\",\"name\":\"M\\u00f3veis\",\"orientation\":\"v\",\"showlegend\":true,\"x\":[\"2010-03-31T00:00:00\",\"2010-06-30T00:00:00\",\"2010-09-30T00:00:00\",\"2010-12-31T00:00:00\",\"2011-03-31T00:00:00\",\"2011-06-30T00:00:00\",\"2011-09-30T00:00:00\",\"2011-12-31T00:00:00\",\"2012-03-31T00:00:00\",\"2012-06-30T00:00:00\",\"2012-09-30T00:00:00\",\"2012-12-31T00:00:00\",\"2013-03-31T00:00:00\",\"2013-06-30T00:00:00\",\"2013-09-30T00:00:00\",\"2013-12-31T00:00:00\",\"2014-03-31T00:00:00\",\"2014-06-30T00:00:00\",\"2014-09-30T00:00:00\",\"2014-12-31T00:00:00\",\"2015-03-31T00:00:00\",\"2015-06-30T00:00:00\",\"2015-09-30T00:00:00\",\"2015-12-31T00:00:00\",\"2016-03-31T00:00:00\",\"2016-06-30T00:00:00\",\"2016-09-30T00:00:00\",\"2016-12-31T00:00:00\",\"2017-03-31T00:00:00\",\"2017-06-30T00:00:00\",\"2017-09-30T00:00:00\",\"2017-12-31T00:00:00\",\"2018-03-31T00:00:00\"],\"xaxis\":\"x\",\"y\":[0,0,0,0,0,0,0,0,1,0,1,2,0,3,1,3,3,1,2,3,0,2,0,2,7,2,1,6,1,1,2,1,0],\"yaxis\":\"y\",\"type\":\"scatter\"},{\"hovertemplate\":\"variable=Notebook<br>time=%{x}<br># Item=%{y}<extra></extra>\",\"legendgroup\":\"Notebook\",\"line\":{\"color\":\"#ab63fa\",\"dash\":\"solid\"},\"marker\":{\"symbol\":\"circle\"},\"mode\":\"lines+markers\",\"name\":\"Notebook\",\"orientation\":\"v\",\"showlegend\":true,\"x\":[\"2010-03-31T00:00:00\",\"2010-06-30T00:00:00\",\"2010-09-30T00:00:00\",\"2010-12-31T00:00:00\",\"2011-03-31T00:00:00\",\"2011-06-30T00:00:00\",\"2011-09-30T00:00:00\",\"2011-12-31T00:00:00\",\"2012-03-31T00:00:00\",\"2012-06-30T00:00:00\",\"2012-09-30T00:00:00\",\"2012-12-31T00:00:00\",\"2013-03-31T00:00:00\",\"2013-06-30T00:00:00\",\"2013-09-30T00:00:00\",\"2013-12-31T00:00:00\",\"2014-03-31T00:00:00\",\"2014-06-30T00:00:00\",\"2014-09-30T00:00:00\",\"2014-12-31T00:00:00\",\"2015-03-31T00:00:00\",\"2015-06-30T00:00:00\",\"2015-09-30T00:00:00\",\"2015-12-31T00:00:00\",\"2016-03-31T00:00:00\",\"2016-06-30T00:00:00\",\"2016-09-30T00:00:00\",\"2016-12-31T00:00:00\",\"2017-03-31T00:00:00\",\"2017-06-30T00:00:00\",\"2017-09-30T00:00:00\",\"2017-12-31T00:00:00\",\"2018-03-31T00:00:00\"],\"xaxis\":\"x\",\"y\":[0,1,1,1,0,0,0,0,13,5,9,10,26,32,49,45,36,76,61,55,23,26,17,29,32,38,36,36,31,25,26,20,5],\"yaxis\":\"y\",\"type\":\"scatter\"},{\"hovertemplate\":\"variable=Outros<br>time=%{x}<br># Item=%{y}<extra></extra>\",\"legendgroup\":\"Outros\",\"line\":{\"color\":\"#FFA15A\",\"dash\":\"solid\"},\"marker\":{\"symbol\":\"circle\"},\"mode\":\"lines+markers\",\"name\":\"Outros\",\"orientation\":\"v\",\"showlegend\":true,\"x\":[\"2010-03-31T00:00:00\",\"2010-06-30T00:00:00\",\"2010-09-30T00:00:00\",\"2010-12-31T00:00:00\",\"2011-03-31T00:00:00\",\"2011-06-30T00:00:00\",\"2011-09-30T00:00:00\",\"2011-12-31T00:00:00\",\"2012-03-31T00:00:00\",\"2012-06-30T00:00:00\",\"2012-09-30T00:00:00\",\"2012-12-31T00:00:00\",\"2013-03-31T00:00:00\",\"2013-06-30T00:00:00\",\"2013-09-30T00:00:00\",\"2013-12-31T00:00:00\",\"2014-03-31T00:00:00\",\"2014-06-30T00:00:00\",\"2014-09-30T00:00:00\",\"2014-12-31T00:00:00\",\"2015-03-31T00:00:00\",\"2015-06-30T00:00:00\",\"2015-09-30T00:00:00\",\"2015-12-31T00:00:00\",\"2016-03-31T00:00:00\",\"2016-06-30T00:00:00\",\"2016-09-30T00:00:00\",\"2016-12-31T00:00:00\",\"2017-03-31T00:00:00\",\"2017-06-30T00:00:00\",\"2017-09-30T00:00:00\",\"2017-12-31T00:00:00\",\"2018-03-31T00:00:00\"],\"xaxis\":\"x\",\"y\":[1,0,3,2,0,3,0,3,44,22,40,42,129,158,324,286,291,466,531,414,221,130,183,210,221,236,249,279,200,204,158,121,72],\"yaxis\":\"y\",\"type\":\"scatter\"},{\"hovertemplate\":\"variable=Rel\\u00f3gio<br>time=%{x}<br># Item=%{y}<extra></extra>\",\"legendgroup\":\"Rel\\u00f3gio\",\"line\":{\"color\":\"#19d3f3\",\"dash\":\"solid\"},\"marker\":{\"symbol\":\"circle\"},\"mode\":\"lines+markers\",\"name\":\"Rel\\u00f3gio\",\"orientation\":\"v\",\"showlegend\":true,\"x\":[\"2010-03-31T00:00:00\",\"2010-06-30T00:00:00\",\"2010-09-30T00:00:00\",\"2010-12-31T00:00:00\",\"2011-03-31T00:00:00\",\"2011-06-30T00:00:00\",\"2011-09-30T00:00:00\",\"2011-12-31T00:00:00\",\"2012-03-31T00:00:00\",\"2012-06-30T00:00:00\",\"2012-09-30T00:00:00\",\"2012-12-31T00:00:00\",\"2013-03-31T00:00:00\",\"2013-06-30T00:00:00\",\"2013-09-30T00:00:00\",\"2013-12-31T00:00:00\",\"2014-03-31T00:00:00\",\"2014-06-30T00:00:00\",\"2014-09-30T00:00:00\",\"2014-12-31T00:00:00\",\"2015-03-31T00:00:00\",\"2015-06-30T00:00:00\",\"2015-09-30T00:00:00\",\"2015-12-31T00:00:00\",\"2016-03-31T00:00:00\",\"2016-06-30T00:00:00\",\"2016-09-30T00:00:00\",\"2016-12-31T00:00:00\",\"2017-03-31T00:00:00\",\"2017-06-30T00:00:00\",\"2017-09-30T00:00:00\",\"2017-12-31T00:00:00\",\"2018-03-31T00:00:00\"],\"xaxis\":\"x\",\"y\":[1,1,1,1,0,1,0,1,9,8,22,21,48,50,80,78,85,108,118,104,72,42,50,52,55,49,52,70,44,39,44,30,14],\"yaxis\":\"y\",\"type\":\"scatter\"},{\"hovertemplate\":\"variable=Som<br>time=%{x}<br># Item=%{y}<extra></extra>\",\"legendgroup\":\"Som\",\"line\":{\"color\":\"#FF6692\",\"dash\":\"solid\"},\"marker\":{\"symbol\":\"circle\"},\"mode\":\"lines+markers\",\"name\":\"Som\",\"orientation\":\"v\",\"showlegend\":true,\"x\":[\"2010-03-31T00:00:00\",\"2010-06-30T00:00:00\",\"2010-09-30T00:00:00\",\"2010-12-31T00:00:00\",\"2011-03-31T00:00:00\",\"2011-06-30T00:00:00\",\"2011-09-30T00:00:00\",\"2011-12-31T00:00:00\",\"2012-03-31T00:00:00\",\"2012-06-30T00:00:00\",\"2012-09-30T00:00:00\",\"2012-12-31T00:00:00\",\"2013-03-31T00:00:00\",\"2013-06-30T00:00:00\",\"2013-09-30T00:00:00\",\"2013-12-31T00:00:00\",\"2014-03-31T00:00:00\",\"2014-06-30T00:00:00\",\"2014-09-30T00:00:00\",\"2014-12-31T00:00:00\",\"2015-03-31T00:00:00\",\"2015-06-30T00:00:00\",\"2015-09-30T00:00:00\",\"2015-12-31T00:00:00\",\"2016-03-31T00:00:00\",\"2016-06-30T00:00:00\",\"2016-09-30T00:00:00\",\"2016-12-31T00:00:00\",\"2017-03-31T00:00:00\",\"2017-06-30T00:00:00\",\"2017-09-30T00:00:00\",\"2017-12-31T00:00:00\",\"2018-03-31T00:00:00\"],\"xaxis\":\"x\",\"y\":[0,0,0,1,0,0,0,0,1,0,3,2,4,3,5,8,3,5,8,10,0,3,2,4,8,7,3,12,3,2,5,3,1],\"yaxis\":\"y\",\"type\":\"scatter\"},{\"hovertemplate\":\"variable=Tablet<br>time=%{x}<br># Item=%{y}<extra></extra>\",\"legendgroup\":\"Tablet\",\"line\":{\"color\":\"#B6E880\",\"dash\":\"solid\"},\"marker\":{\"symbol\":\"circle\"},\"mode\":\"lines+markers\",\"name\":\"Tablet\",\"orientation\":\"v\",\"showlegend\":true,\"x\":[\"2010-03-31T00:00:00\",\"2010-06-30T00:00:00\",\"2010-09-30T00:00:00\",\"2010-12-31T00:00:00\",\"2011-03-31T00:00:00\",\"2011-06-30T00:00:00\",\"2011-09-30T00:00:00\",\"2011-12-31T00:00:00\",\"2012-03-31T00:00:00\",\"2012-06-30T00:00:00\",\"2012-09-30T00:00:00\",\"2012-12-31T00:00:00\",\"2013-03-31T00:00:00\",\"2013-06-30T00:00:00\",\"2013-09-30T00:00:00\",\"2013-12-31T00:00:00\",\"2014-03-31T00:00:00\",\"2014-06-30T00:00:00\",\"2014-09-30T00:00:00\",\"2014-12-31T00:00:00\",\"2015-03-31T00:00:00\",\"2015-06-30T00:00:00\",\"2015-09-30T00:00:00\",\"2015-12-31T00:00:00\",\"2016-03-31T00:00:00\",\"2016-06-30T00:00:00\",\"2016-09-30T00:00:00\",\"2016-12-31T00:00:00\",\"2017-03-31T00:00:00\",\"2017-06-30T00:00:00\",\"2017-09-30T00:00:00\",\"2017-12-31T00:00:00\",\"2018-03-31T00:00:00\"],\"xaxis\":\"x\",\"y\":[0,0,0,1,0,0,0,0,1,2,7,3,10,17,34,24,33,48,58,27,12,12,12,18,22,22,17,15,13,15,10,6,4],\"yaxis\":\"y\",\"type\":\"scatter\"},{\"hovertemplate\":\"variable=Tv<br>time=%{x}<br># Item=%{y}<extra></extra>\",\"legendgroup\":\"Tv\",\"line\":{\"color\":\"#FF97FF\",\"dash\":\"solid\"},\"marker\":{\"symbol\":\"circle\"},\"mode\":\"lines+markers\",\"name\":\"Tv\",\"orientation\":\"v\",\"showlegend\":true,\"x\":[\"2010-03-31T00:00:00\",\"2010-06-30T00:00:00\",\"2010-09-30T00:00:00\",\"2010-12-31T00:00:00\",\"2011-03-31T00:00:00\",\"2011-06-30T00:00:00\",\"2011-09-30T00:00:00\",\"2011-12-31T00:00:00\",\"2012-03-31T00:00:00\",\"2012-06-30T00:00:00\",\"2012-09-30T00:00:00\",\"2012-12-31T00:00:00\",\"2013-03-31T00:00:00\",\"2013-06-30T00:00:00\",\"2013-09-30T00:00:00\",\"2013-12-31T00:00:00\",\"2014-03-31T00:00:00\",\"2014-06-30T00:00:00\",\"2014-09-30T00:00:00\",\"2014-12-31T00:00:00\",\"2015-03-31T00:00:00\",\"2015-06-30T00:00:00\",\"2015-09-30T00:00:00\",\"2015-12-31T00:00:00\",\"2016-03-31T00:00:00\",\"2016-06-30T00:00:00\",\"2016-09-30T00:00:00\",\"2016-12-31T00:00:00\",\"2017-03-31T00:00:00\",\"2017-06-30T00:00:00\",\"2017-09-30T00:00:00\",\"2017-12-31T00:00:00\",\"2018-03-31T00:00:00\"],\"xaxis\":\"x\",\"y\":[0,0,0,1,0,0,0,0,2,0,2,2,5,8,9,13,8,14,13,12,4,11,3,9,15,13,4,10,3,1,13,2,1],\"yaxis\":\"y\",\"type\":\"scatter\"},{\"hovertemplate\":\"variable=Total<br>time=%{x}<br># Item=%{y}<extra></extra>\",\"legendgroup\":\"Total\",\"line\":{\"color\":\"#FECB52\",\"dash\":\"solid\"},\"marker\":{\"symbol\":\"circle\"},\"mode\":\"lines+markers\",\"name\":\"Total\",\"orientation\":\"v\",\"showlegend\":true,\"x\":[\"2010-03-31T00:00:00\",\"2010-06-30T00:00:00\",\"2010-09-30T00:00:00\",\"2010-12-31T00:00:00\",\"2011-03-31T00:00:00\",\"2011-06-30T00:00:00\",\"2011-09-30T00:00:00\",\"2011-12-31T00:00:00\",\"2012-03-31T00:00:00\",\"2012-06-30T00:00:00\",\"2012-09-30T00:00:00\",\"2012-12-31T00:00:00\",\"2013-03-31T00:00:00\",\"2013-06-30T00:00:00\",\"2013-09-30T00:00:00\",\"2013-12-31T00:00:00\",\"2014-03-31T00:00:00\",\"2014-06-30T00:00:00\",\"2014-09-30T00:00:00\",\"2014-12-31T00:00:00\",\"2015-03-31T00:00:00\",\"2015-06-30T00:00:00\",\"2015-09-30T00:00:00\",\"2015-12-31T00:00:00\",\"2016-03-31T00:00:00\",\"2016-06-30T00:00:00\",\"2016-09-30T00:00:00\",\"2016-12-31T00:00:00\",\"2017-03-31T00:00:00\",\"2017-06-30T00:00:00\",\"2017-09-30T00:00:00\",\"2017-12-31T00:00:00\",\"2018-03-31T00:00:00\"],\"xaxis\":\"x\",\"y\":[14,7,11,19,1,6,1,22,293,227,319,304,862,1160,2237,1806,1841,3018,3228,2555,1384,1019,1209,1337,1622,1497,1654,1738,1287,1174,1040,736,495],\"yaxis\":\"y\",\"type\":\"scatter\"}],                        {\"template\":{\"data\":{\"histogram2dcontour\":[{\"type\":\"histogram2dcontour\",\"colorbar\":{\"outlinewidth\":0,\"ticks\":\"\"},\"colorscale\":[[0.0,\"#0d0887\"],[0.1111111111111111,\"#46039f\"],[0.2222222222222222,\"#7201a8\"],[0.3333333333333333,\"#9c179e\"],[0.4444444444444444,\"#bd3786\"],[0.5555555555555556,\"#d8576b\"],[0.6666666666666666,\"#ed7953\"],[0.7777777777777778,\"#fb9f3a\"],[0.8888888888888888,\"#fdca26\"],[1.0,\"#f0f921\"]]}],\"choropleth\":[{\"type\":\"choropleth\",\"colorbar\":{\"outlinewidth\":0,\"ticks\":\"\"}}],\"histogram2d\":[{\"type\":\"histogram2d\",\"colorbar\":{\"outlinewidth\":0,\"ticks\":\"\"},\"colorscale\":[[0.0,\"#0d0887\"],[0.1111111111111111,\"#46039f\"],[0.2222222222222222,\"#7201a8\"],[0.3333333333333333,\"#9c179e\"],[0.4444444444444444,\"#bd3786\"],[0.5555555555555556,\"#d8576b\"],[0.6666666666666666,\"#ed7953\"],[0.7777777777777778,\"#fb9f3a\"],[0.8888888888888888,\"#fdca26\"],[1.0,\"#f0f921\"]]}],\"heatmap\":[{\"type\":\"heatmap\",\"colorbar\":{\"outlinewidth\":0,\"ticks\":\"\"},\"colorscale\":[[0.0,\"#0d0887\"],[0.1111111111111111,\"#46039f\"],[0.2222222222222222,\"#7201a8\"],[0.3333333333333333,\"#9c179e\"],[0.4444444444444444,\"#bd3786\"],[0.5555555555555556,\"#d8576b\"],[0.6666666666666666,\"#ed7953\"],[0.7777777777777778,\"#fb9f3a\"],[0.8888888888888888,\"#fdca26\"],[1.0,\"#f0f921\"]]}],\"heatmapgl\":[{\"type\":\"heatmapgl\",\"colorbar\":{\"outlinewidth\":0,\"ticks\":\"\"},\"colorscale\":[[0.0,\"#0d0887\"],[0.1111111111111111,\"#46039f\"],[0.2222222222222222,\"#7201a8\"],[0.3333333333333333,\"#9c179e\"],[0.4444444444444444,\"#bd3786\"],[0.5555555555555556,\"#d8576b\"],[0.6666666666666666,\"#ed7953\"],[0.7777777777777778,\"#fb9f3a\"],[0.8888888888888888,\"#fdca26\"],[1.0,\"#f0f921\"]]}],\"contourcarpet\":[{\"type\":\"contourcarpet\",\"colorbar\":{\"outlinewidth\":0,\"ticks\":\"\"}}],\"contour\":[{\"type\":\"contour\",\"colorbar\":{\"outlinewidth\":0,\"ticks\":\"\"},\"colorscale\":[[0.0,\"#0d0887\"],[0.1111111111111111,\"#46039f\"],[0.2222222222222222,\"#7201a8\"],[0.3333333333333333,\"#9c179e\"],[0.4444444444444444,\"#bd3786\"],[0.5555555555555556,\"#d8576b\"],[0.6666666666666666,\"#ed7953\"],[0.7777777777777778,\"#fb9f3a\"],[0.8888888888888888,\"#fdca26\"],[1.0,\"#f0f921\"]]}],\"surface\":[{\"type\":\"surface\",\"colorbar\":{\"outlinewidth\":0,\"ticks\":\"\"},\"colorscale\":[[0.0,\"#0d0887\"],[0.1111111111111111,\"#46039f\"],[0.2222222222222222,\"#7201a8\"],[0.3333333333333333,\"#9c179e\"],[0.4444444444444444,\"#bd3786\"],[0.5555555555555556,\"#d8576b\"],[0.6666666666666666,\"#ed7953\"],[0.7777777777777778,\"#fb9f3a\"],[0.8888888888888888,\"#fdca26\"],[1.0,\"#f0f921\"]]}],\"mesh3d\":[{\"type\":\"mesh3d\",\"colorbar\":{\"outlinewidth\":0,\"ticks\":\"\"}}],\"scatter\":[{\"fillpattern\":{\"fillmode\":\"overlay\",\"size\":10,\"solidity\":0.2},\"type\":\"scatter\"}],\"parcoords\":[{\"type\":\"parcoords\",\"line\":{\"colorbar\":{\"outlinewidth\":0,\"ticks\":\"\"}}}],\"scatterpolargl\":[{\"type\":\"scatterpolargl\",\"marker\":{\"colorbar\":{\"outlinewidth\":0,\"ticks\":\"\"}}}],\"bar\":[{\"error_x\":{\"color\":\"#2a3f5f\"},\"error_y\":{\"color\":\"#2a3f5f\"},\"marker\":{\"line\":{\"color\":\"#E5ECF6\",\"width\":0.5},\"pattern\":{\"fillmode\":\"overlay\",\"size\":10,\"solidity\":0.2}},\"type\":\"bar\"}],\"scattergeo\":[{\"type\":\"scattergeo\",\"marker\":{\"colorbar\":{\"outlinewidth\":0,\"ticks\":\"\"}}}],\"scatterpolar\":[{\"type\":\"scatterpolar\",\"marker\":{\"colorbar\":{\"outlinewidth\":0,\"ticks\":\"\"}}}],\"histogram\":[{\"marker\":{\"pattern\":{\"fillmode\":\"overlay\",\"size\":10,\"solidity\":0.2}},\"type\":\"histogram\"}],\"scattergl\":[{\"type\":\"scattergl\",\"marker\":{\"colorbar\":{\"outlinewidth\":0,\"ticks\":\"\"}}}],\"scatter3d\":[{\"type\":\"scatter3d\",\"line\":{\"colorbar\":{\"outlinewidth\":0,\"ticks\":\"\"}},\"marker\":{\"colorbar\":{\"outlinewidth\":0,\"ticks\":\"\"}}}],\"scattermapbox\":[{\"type\":\"scattermapbox\",\"marker\":{\"colorbar\":{\"outlinewidth\":0,\"ticks\":\"\"}}}],\"scatterternary\":[{\"type\":\"scatterternary\",\"marker\":{\"colorbar\":{\"outlinewidth\":0,\"ticks\":\"\"}}}],\"scattercarpet\":[{\"type\":\"scattercarpet\",\"marker\":{\"colorbar\":{\"outlinewidth\":0,\"ticks\":\"\"}}}],\"carpet\":[{\"aaxis\":{\"endlinecolor\":\"#2a3f5f\",\"gridcolor\":\"white\",\"linecolor\":\"white\",\"minorgridcolor\":\"white\",\"startlinecolor\":\"#2a3f5f\"},\"baxis\":{\"endlinecolor\":\"#2a3f5f\",\"gridcolor\":\"white\",\"linecolor\":\"white\",\"minorgridcolor\":\"white\",\"startlinecolor\":\"#2a3f5f\"},\"type\":\"carpet\"}],\"table\":[{\"cells\":{\"fill\":{\"color\":\"#EBF0F8\"},\"line\":{\"color\":\"white\"}},\"header\":{\"fill\":{\"color\":\"#C8D4E3\"},\"line\":{\"color\":\"white\"}},\"type\":\"table\"}],\"barpolar\":[{\"marker\":{\"line\":{\"color\":\"#E5ECF6\",\"width\":0.5},\"pattern\":{\"fillmode\":\"overlay\",\"size\":10,\"solidity\":0.2}},\"type\":\"barpolar\"}],\"pie\":[{\"automargin\":true,\"type\":\"pie\"}]},\"layout\":{\"autotypenumbers\":\"strict\",\"colorway\":[\"#636efa\",\"#EF553B\",\"#00cc96\",\"#ab63fa\",\"#FFA15A\",\"#19d3f3\",\"#FF6692\",\"#B6E880\",\"#FF97FF\",\"#FECB52\"],\"font\":{\"color\":\"#2a3f5f\"},\"hovermode\":\"closest\",\"hoverlabel\":{\"align\":\"left\"},\"paper_bgcolor\":\"white\",\"plot_bgcolor\":\"#E5ECF6\",\"polar\":{\"bgcolor\":\"#E5ECF6\",\"angularaxis\":{\"gridcolor\":\"white\",\"linecolor\":\"white\",\"ticks\":\"\"},\"radialaxis\":{\"gridcolor\":\"white\",\"linecolor\":\"white\",\"ticks\":\"\"}},\"ternary\":{\"bgcolor\":\"#E5ECF6\",\"aaxis\":{\"gridcolor\":\"white\",\"linecolor\":\"white\",\"ticks\":\"\"},\"baxis\":{\"gridcolor\":\"white\",\"linecolor\":\"white\",\"ticks\":\"\"},\"caxis\":{\"gridcolor\":\"white\",\"linecolor\":\"white\",\"ticks\":\"\"}},\"coloraxis\":{\"colorbar\":{\"outlinewidth\":0,\"ticks\":\"\"}},\"colorscale\":{\"sequential\":[[0.0,\"#0d0887\"],[0.1111111111111111,\"#46039f\"],[0.2222222222222222,\"#7201a8\"],[0.3333333333333333,\"#9c179e\"],[0.4444444444444444,\"#bd3786\"],[0.5555555555555556,\"#d8576b\"],[0.6666666666666666,\"#ed7953\"],[0.7777777777777778,\"#fb9f3a\"],[0.8888888888888888,\"#fdca26\"],[1.0,\"#f0f921\"]],\"sequentialminus\":[[0.0,\"#0d0887\"],[0.1111111111111111,\"#46039f\"],[0.2222222222222222,\"#7201a8\"],[0.3333333333333333,\"#9c179e\"],[0.4444444444444444,\"#bd3786\"],[0.5555555555555556,\"#d8576b\"],[0.6666666666666666,\"#ed7953\"],[0.7777777777777778,\"#fb9f3a\"],[0.8888888888888888,\"#fdca26\"],[1.0,\"#f0f921\"]],\"diverging\":[[0,\"#8e0152\"],[0.1,\"#c51b7d\"],[0.2,\"#de77ae\"],[0.3,\"#f1b6da\"],[0.4,\"#fde0ef\"],[0.5,\"#f7f7f7\"],[0.6,\"#e6f5d0\"],[0.7,\"#b8e186\"],[0.8,\"#7fbc41\"],[0.9,\"#4d9221\"],[1,\"#276419\"]]},\"xaxis\":{\"gridcolor\":\"white\",\"linecolor\":\"white\",\"ticks\":\"\",\"title\":{\"standoff\":15},\"zerolinecolor\":\"white\",\"automargin\":true,\"zerolinewidth\":2},\"yaxis\":{\"gridcolor\":\"white\",\"linecolor\":\"white\",\"ticks\":\"\",\"title\":{\"standoff\":15},\"zerolinecolor\":\"white\",\"automargin\":true,\"zerolinewidth\":2},\"scene\":{\"xaxis\":{\"backgroundcolor\":\"#E5ECF6\",\"gridcolor\":\"white\",\"linecolor\":\"white\",\"showbackground\":true,\"ticks\":\"\",\"zerolinecolor\":\"white\",\"gridwidth\":2},\"yaxis\":{\"backgroundcolor\":\"#E5ECF6\",\"gridcolor\":\"white\",\"linecolor\":\"white\",\"showbackground\":true,\"ticks\":\"\",\"zerolinecolor\":\"white\",\"gridwidth\":2},\"zaxis\":{\"backgroundcolor\":\"#E5ECF6\",\"gridcolor\":\"white\",\"linecolor\":\"white\",\"showbackground\":true,\"ticks\":\"\",\"zerolinecolor\":\"white\",\"gridwidth\":2}},\"shapedefaults\":{\"line\":{\"color\":\"#2a3f5f\"}},\"annotationdefaults\":{\"arrowcolor\":\"#2a3f5f\",\"arrowhead\":0,\"arrowwidth\":1},\"geo\":{\"bgcolor\":\"white\",\"landcolor\":\"#E5ECF6\",\"subunitcolor\":\"white\",\"showland\":true,\"showlakes\":true,\"lakecolor\":\"white\"},\"title\":{\"x\":0.05},\"mapbox\":{\"style\":\"light\"}}},\"xaxis\":{\"anchor\":\"y\",\"domain\":[0.0,1.0],\"title\":{\"text\":\"time\"}},\"yaxis\":{\"anchor\":\"x\",\"domain\":[0.0,1.0],\"title\":{\"text\":\"# Item\"}},\"legend\":{\"title\":{\"text\":\"variable\"},\"tracegroupgap\":0},\"title\":{\"text\":\"FURTOS NO TRIMESTRE POR ITEM\"}},                        {\"responsive\": true}                    ).then(function(){\n",
       "                            \n",
       "var gd = document.getElementById('d2e6afeb-886d-4afb-82b2-34f68717c520');\n",
       "var x = new MutationObserver(function (mutations, observer) {{\n",
       "        var display = window.getComputedStyle(gd).display;\n",
       "        if (!display || display === 'none') {{\n",
       "            console.log([gd, 'removed!']);\n",
       "            Plotly.purge(gd);\n",
       "            observer.disconnect();\n",
       "        }}\n",
       "}});\n",
       "\n",
       "// Listen for the removal of the full notebook cells\n",
       "var notebookContainer = gd.closest('#notebook-container');\n",
       "if (notebookContainer) {{\n",
       "    x.observe(notebookContainer, {childList: true});\n",
       "}}\n",
       "\n",
       "// Listen for the clearing of the current output cell\n",
       "var outputEl = gd.closest('.output');\n",
       "if (outputEl) {{\n",
       "    x.observe(outputEl, {childList: true});\n",
       "}}\n",
       "\n",
       "                        })                };                });            </script>        </div>"
      ]
     },
     "metadata": {},
     "output_type": "display_data"
    }
   ],
   "source": [
    "px.line(data_frame=ts, markers = 'x', labels={'value': '# Item', 'y':'Time'}, title = 'FURTOS NO TRIMESTRE POR ITEM')"
   ]
  },
  {
   "cell_type": "markdown",
   "id": "1338bcba-670b-4e64-afa1-c99b88c4eb25",
   "metadata": {},
   "source": [
    "* Pico de ocorrências durante o ano de 2014, segundo uma tendência de queda a partir do ano de 2017\n",
    "* O ranking de itens mais roubados permanece estável no decorrer dos anos <br>\n",
    "  A seguir será verificado o período do dia em que esses furtos ocorrem"
   ]
  },
  {
   "cell_type": "markdown",
   "id": "43aa98ff-be93-40ed-b4eb-62c50cf7e881",
   "metadata": {},
   "source": [
    "### Events per period of the day"
   ]
  },
  {
   "cell_type": "markdown",
   "id": "6b13569e-ff67-4fc3-ae87-990115ede373",
   "metadata": {},
   "source": [
    "Para esta análise, o dia foi dividido em 4 períodos de 6 horas, sendo:\n",
    "   * 00:00 -- 05:59h -> Madrugada\n",
    "   * 06:00 -- 11:59h -> Manhã\n",
    "   * 12:00 -- 17:59h -> Tarde\n",
    "   * 18:00 -- 23:59h -> Noite <br><br>\n",
    "Tal como foi codificado na função criada a seguir:"
   ]
  },
  {
   "cell_type": "code",
   "execution_count": 52,
   "id": "669d5760-e293-4762-ad7f-8259f1266f56",
   "metadata": {},
   "outputs": [],
   "source": [
    "def periodo(hora):\n",
    "    if (hora >=0) & (hora<6):\n",
    "        return 'madrugada'\n",
    "    elif (hora>=6) & (hora<12):\n",
    "        return 'manhã'\n",
    "    elif (hora > 12) & (hora < 18):\n",
    "        return 'tarde'\n",
    "    else:\n",
    "        return 'noite'"
   ]
  },
  {
   "cell_type": "code",
   "execution_count": 54,
   "id": "c4e7e45b-ceef-4b00-bda0-75040ae3f6b3",
   "metadata": {},
   "outputs": [],
   "source": [
    "crime['period'] = crime.time.dt.hour.apply(periodo)"
   ]
  },
  {
   "cell_type": "code",
   "execution_count": 97,
   "id": "180db181-5c53-4336-9851-0f46c6179c06",
   "metadata": {},
   "outputs": [],
   "source": [
    "period_df = crime.melt(id_vars = ['period'], value_vars = crime.columns[11:30], var_name = 'item')"
   ]
  },
  {
   "cell_type": "code",
   "execution_count": null,
   "id": "dee988ea-8cb3-476c-8cad-c216bcf94578",
   "metadata": {},
   "outputs": [
    {
     "data": {
      "text/html": [
       "<div>\n",
       "<style scoped>\n",
       "    .dataframe tbody tr th:only-of-type {\n",
       "        vertical-align: middle;\n",
       "    }\n",
       "\n",
       "    .dataframe tbody tr th {\n",
       "        vertical-align: top;\n",
       "    }\n",
       "\n",
       "    .dataframe thead th {\n",
       "        text-align: right;\n",
       "    }\n",
       "</style>\n",
       "<table border=\"1\" class=\"dataframe\">\n",
       "  <thead>\n",
       "    <tr style=\"text-align: right;\">\n",
       "      <th></th>\n",
       "      <th>period</th>\n",
       "      <th>item</th>\n",
       "      <th>value</th>\n",
       "    </tr>\n",
       "  </thead>\n",
       "  <tbody>\n",
       "    <tr>\n",
       "      <th>0</th>\n",
       "      <td>noite</td>\n",
       "      <td>Bicicleta</td>\n",
       "      <td>False</td>\n",
       "    </tr>\n",
       "    <tr>\n",
       "      <th>1</th>\n",
       "      <td>tarde</td>\n",
       "      <td>Bicicleta</td>\n",
       "      <td>False</td>\n",
       "    </tr>\n",
       "    <tr>\n",
       "      <th>2</th>\n",
       "      <td>tarde</td>\n",
       "      <td>Bicicleta</td>\n",
       "      <td>False</td>\n",
       "    </tr>\n",
       "    <tr>\n",
       "      <th>3</th>\n",
       "      <td>noite</td>\n",
       "      <td>Bicicleta</td>\n",
       "      <td>False</td>\n",
       "    </tr>\n",
       "    <tr>\n",
       "      <th>4</th>\n",
       "      <td>manhã</td>\n",
       "      <td>Bicicleta</td>\n",
       "      <td>False</td>\n",
       "    </tr>\n",
       "    <tr>\n",
       "      <th>...</th>\n",
       "      <td>...</td>\n",
       "      <td>...</td>\n",
       "      <td>...</td>\n",
       "    </tr>\n",
       "    <tr>\n",
       "      <th>245076</th>\n",
       "      <td>noite</td>\n",
       "      <td>Tv</td>\n",
       "      <td>False</td>\n",
       "    </tr>\n",
       "    <tr>\n",
       "      <th>245077</th>\n",
       "      <td>noite</td>\n",
       "      <td>Tv</td>\n",
       "      <td>False</td>\n",
       "    </tr>\n",
       "    <tr>\n",
       "      <th>245078</th>\n",
       "      <td>tarde</td>\n",
       "      <td>Tv</td>\n",
       "      <td>False</td>\n",
       "    </tr>\n",
       "    <tr>\n",
       "      <th>245079</th>\n",
       "      <td>noite</td>\n",
       "      <td>Tv</td>\n",
       "      <td>False</td>\n",
       "    </tr>\n",
       "    <tr>\n",
       "      <th>245080</th>\n",
       "      <td>manhã</td>\n",
       "      <td>Tv</td>\n",
       "      <td>False</td>\n",
       "    </tr>\n",
       "  </tbody>\n",
       "</table>\n",
       "<p>245081 rows × 3 columns</p>\n",
       "</div>"
      ],
      "text/plain": [
       "       period       item  value\n",
       "0       noite  Bicicleta  False\n",
       "1       tarde  Bicicleta  False\n",
       "2       tarde  Bicicleta  False\n",
       "3       noite  Bicicleta  False\n",
       "4       manhã  Bicicleta  False\n",
       "...       ...        ...    ...\n",
       "245076  noite         Tv  False\n",
       "245077  noite         Tv  False\n",
       "245078  tarde         Tv  False\n",
       "245079  noite         Tv  False\n",
       "245080  manhã         Tv  False\n",
       "\n",
       "[245081 rows x 3 columns]"
      ]
     },
     "execution_count": 98,
     "metadata": {},
     "output_type": "execute_result"
    }
   ],
   "source": [
    "period_df."
   ]
  },
  {
   "cell_type": "code",
   "execution_count": null,
   "id": "f3a22aa3-1e76-4764-accc-334c76247f3e",
   "metadata": {},
   "outputs": [],
   "source": [
    "period_df = period_df[period_df.value].groupby(['period','item']).sum().reset_index()"
   ]
  },
  {
   "cell_type": "code",
   "execution_count": 170,
   "id": "c2d8448a-c487-43d5-abf3-77ea6508d3af",
   "metadata": {},
   "outputs": [],
   "source": [
    "period_df = period_df.sort_values(by='value', ascending = False)"
   ]
  },
  {
   "cell_type": "code",
   "execution_count": 180,
   "id": "6d9f112b-7b62-407b-81a5-dfaa6354a873",
   "metadata": {},
   "outputs": [
    {
     "data": {
      "image/png": "[encoded data removed]",
      "text/plain": [
       "<Figure size 1584x432 with 2 Axes>"
      ]
     },
     "metadata": {},
     "output_type": "display_data"
    }
   ],
   "source": [
    "f, ax = plt.subplots(nrows = 2, sharex = False, figsize=(22,6))\n",
    "sns.barplot(x='period', hue='item',y='value', data = period_df, palette = 'Set1', ax = ax[0])\n",
    "sns.barplot(x='period', y = 'value', data = period_df, palette = 'Set1', ax = ax[1])\n",
    "\n",
    "plt.suptitle(\"Ocorrências por período do dia\", fontsize = 22)\n",
    "\n",
    "ax[0].set_ylabel('Ocorrências')\n",
    "ax[0].set_xlabel('Período')\n",
    "\n",
    "ax[1].set_xlabel('Período')\n",
    "ax[1].set_ylabel('Ocorrências')\n",
    "\n",
    "plt.show()"
   ]
  },
  {
   "cell_type": "markdown",
   "id": "fcd0dc60-2919-499c-ad47-ca51e152bffe",
   "metadata": {},
   "source": [
    "Para a maior parte dos itens, o período da noite(18h-00h) parece ser onde ocorre a maior parte das ocorrências para todos os itens que são furtados. Os períodos manhã e tarde apresentam números idênticos, não parecendo apresentar níveis de periculosidade diferente do outro, o que pode ser validado por um teste de hipóteses"
   ]
  },
  {
   "cell_type": "markdown",
   "id": "a92dced5-ff22-47ca-a6e1-7fba2a86a284",
   "metadata": {},
   "source": [
    "# Most recurrent Items"
   ]
  },
  {
   "cell_type": "code",
   "execution_count": 108,
   "id": "0f4eb28e-aa9c-45f2-8daf-967ff554de6f",
   "metadata": {},
   "outputs": [],
   "source": [
    "def plot_most_recurrent(crime):\n",
    "    recurrent_items = crime.loc[:,'Bicicleta':'Tv'].sum().sort_values(ascending = False)\n",
    "    \n",
    "    plt.figure(figsize=(18,6))\n",
    "    plt.bar(x=recurrent_items.index, height = recurrent_items.values)\n",
    "    plt.xticks(rotation = 45)\n",
    "    plt.title('Itens mais roubados em ocorrências')\n",
    "    plt.xlabel('Itens')\n",
    "    plt.ylabel('Qtd de furtos')\n",
    "    plt.show()"
   ]
  },
  {
   "cell_type": "code",
   "execution_count": null,
   "id": "422d3eef-5582-457b-9da3-0bd677fc2081",
   "metadata": {},
   "outputs": [],
   "source": [
    "def plot_genre(crime):\n",
    "    recurrent_items = crime.loc[:,'Bicicleta':'Tv'].sum().sort_values(ascending = False)"
   ]
  },
  {
   "cell_type": "code",
   "execution_count": 109,
   "id": "33f8de49-cc10-4e0b-8a4f-3920c0a57351",
   "metadata": {},
   "outputs": [
    {
     "data": {
      "image/png": "[encoded data removed]",
      "text/plain": [
       "<Figure size 1296x432 with 1 Axes>"
      ]
     },
     "metadata": {},
     "output_type": "display_data"
    }
   ],
   "source": [
    "plot_most_recurrent(crime)"
   ]
  },
  {
   "cell_type": "code",
   "execution_count": 43,
   "id": "26d57311-ec5c-4f49-90ac-f117a42efe25",
   "metadata": {},
   "outputs": [],
   "source": [
    "crime_location = crime[['bairro','endereco','latitude','longitude','sexo','time','valor_prejuizo']]"
   ]
  },
  {
   "cell_type": "markdown",
   "id": "03b24bbd-4e19-424f-b7d0-5af47f7764a9",
   "metadata": {},
   "source": [
    "Coordenadas da cidade de São Paulo (Google): <br>\n",
    "Latitude\t-23.618237 <br>\n",
    "Longitude\t-46.635197"
   ]
  },
  {
   "cell_type": "code",
   "execution_count": 47,
   "id": "eb0fe37c-15dd-4968-b5d6-c6ba485803e7",
   "metadata": {},
   "outputs": [
    {
     "data": {
      "text/html": [
       "<iframe srcdoc=\"&lt;!DOCTYPE html&gt;\n",
       "&lt;head&gt;    \n",
       "    &lt;meta http-equiv=&quot;content-type&quot; content=&quot;text/html; charset=UTF-8&quot; /&gt;\n",
       "    \n",
       "        &lt;script&gt;\n",
       "            L_NO_TOUCH = false;\n",
       "            L_DISABLE_3D = false;\n",
       "        &lt;/script&gt;\n",
       "    \n",
       "    &lt;style&gt;html, body {width: 100%;height: 100%;margin: 0;padding: 0;}&lt;/style&gt;\n",
       "    &lt;style&gt;#map {position:absolute;top:0;bottom:0;right:0;left:0;}&lt;/style&gt;\n",
       "    &lt;script src=&quot;https://cdn.jsdelivr.net/npm/leaflet@1.6.0/dist/leaflet.js&quot;&gt;&lt;/script&gt;\n",
       "    &lt;script src=&quot;https://code.jquery.com/jquery-1.12.4.min.js&quot;&gt;&lt;/script&gt;\n",
       "    &lt;script src=&quot;https://maxcdn.bootstrapcdn.com/bootstrap/3.2.0/js/bootstrap.min.js&quot;&gt;&lt;/script&gt;\n",
       "    &lt;script src=&quot;https://cdnjs.cloudflare.com/ajax/libs/Leaflet.awesome-markers/2.0.2/leaflet.awesome-markers.js&quot;&gt;&lt;/script&gt;\n",
       "    &lt;link rel=&quot;stylesheet&quot; href=&quot;https://cdn.jsdelivr.net/npm/leaflet@1.6.0/dist/leaflet.css&quot;/&gt;\n",
       "    &lt;link rel=&quot;stylesheet&quot; href=&quot;https://maxcdn.bootstrapcdn.com/bootstrap/3.2.0/css/bootstrap.min.css&quot;/&gt;\n",
       "    &lt;link rel=&quot;stylesheet&quot; href=&quot;https://maxcdn.bootstrapcdn.com/bootstrap/3.2.0/css/bootstrap-theme.min.css&quot;/&gt;\n",
       "    &lt;link rel=&quot;stylesheet&quot; href=&quot;https://maxcdn.bootstrapcdn.com/font-awesome/4.6.3/css/font-awesome.min.css&quot;/&gt;\n",
       "    &lt;link rel=&quot;stylesheet&quot; href=&quot;https://cdnjs.cloudflare.com/ajax/libs/Leaflet.awesome-markers/2.0.2/leaflet.awesome-markers.css&quot;/&gt;\n",
       "    &lt;link rel=&quot;stylesheet&quot; href=&quot;https://cdn.jsdelivr.net/gh/python-visualization/folium/folium/templates/leaflet.awesome.rotate.min.css&quot;/&gt;\n",
       "    \n",
       "            &lt;meta name=&quot;viewport&quot; content=&quot;width=device-width,\n",
       "                initial-scale=1.0, maximum-scale=1.0, user-scalable=no&quot; /&gt;\n",
       "            &lt;style&gt;\n",
       "                #map_234706a300e5463e46de2923e9c971cf {\n",
       "                    position: relative;\n",
       "                    width: 100.0%;\n",
       "                    height: 100.0%;\n",
       "                    left: 0.0%;\n",
       "                    top: 0.0%;\n",
       "                }\n",
       "            &lt;/style&gt;\n",
       "        \n",
       "&lt;/head&gt;\n",
       "&lt;body&gt;    \n",
       "    \n",
       "            &lt;div class=&quot;folium-map&quot; id=&quot;map_234706a300e5463e46de2923e9c971cf&quot; &gt;&lt;/div&gt;\n",
       "        \n",
       "&lt;/body&gt;\n",
       "&lt;script&gt;    \n",
       "    \n",
       "            var map_234706a300e5463e46de2923e9c971cf = L.map(\n",
       "                &quot;map_234706a300e5463e46de2923e9c971cf&quot;,\n",
       "                {\n",
       "                    center: [-23.618237, -46.635197],\n",
       "                    crs: L.CRS.EPSG3857,\n",
       "                    zoom: 11,\n",
       "                    zoomControl: true,\n",
       "                    preferCanvas: false,\n",
       "                }\n",
       "            );\n",
       "\n",
       "            \n",
       "\n",
       "        \n",
       "    \n",
       "            var tile_layer_d68c2652c023d6940d581937755087b7 = L.tileLayer(\n",
       "                &quot;https://{s}.tile.openstreetmap.org/{z}/{x}/{y}.png&quot;,\n",
       "                {&quot;attribution&quot;: &quot;Data by \\u0026copy; \\u003ca href=\\&quot;http://openstreetmap.org\\&quot;\\u003eOpenStreetMap\\u003c/a\\u003e, under \\u003ca href=\\&quot;http://www.openstreetmap.org/copyright\\&quot;\\u003eODbL\\u003c/a\\u003e.&quot;, &quot;detectRetina&quot;: false, &quot;maxNativeZoom&quot;: 18, &quot;maxZoom&quot;: 18, &quot;minZoom&quot;: 10, &quot;noWrap&quot;: false, &quot;opacity&quot;: 1, &quot;subdomains&quot;: &quot;abc&quot;, &quot;tms&quot;: false}\n",
       "            ).addTo(map_234706a300e5463e46de2923e9c971cf);\n",
       "        \n",
       "&lt;/script&gt;\" width=\"550\" height=\"350\"style=\"border:none !important;\" \"allowfullscreen\" \"webkitallowfullscreen\" \"mozallowfullscreen\"></iframe>"
      ],
      "text/plain": [
       "<branca.element.Figure at 0x7fe1d22c2710>"
      ]
     },
     "execution_count": 47,
     "metadata": {},
     "output_type": "execute_result"
    }
   ],
   "source": [
    "fig=Figure(width=550,height=350)\n",
    "sp = folium.Map(location = [-23.618237,-46.635197], zoom_start = 11, min_zoom = 10)\n",
    "fig.add_child(sp)"
   ]
  },
  {
   "cell_type": "code",
   "execution_count": 40,
   "id": "b9d455fc-b648-478d-81b0-58df2d8a91af",
   "metadata": {},
   "outputs": [],
   "source": []
  },
  {
   "cell_type": "code",
   "execution_count": null,
   "id": "262b7d25-6d30-4b70-84ab-34546d8acc3d",
   "metadata": {},
   "outputs": [],
   "source": []
  }
 ],
 "metadata": {
  "kernelspec": {
   "display_name": "Python 3 (ipykernel)",
   "language": "python",
   "name": "python3"
  },
  "language_info": {
   "codemirror_mode": {
    "name": "ipython",
    "version": 3
   },
   "file_extension": ".py",
   "mimetype": "text/x-python",
   "name": "python",
   "nbconvert_exporter": "python",
   "pygments_lexer": "ipython3",
   "version": "3.10.4"
  }
 },
 "nbformat": 4,
 "nbformat_minor": 5
}
